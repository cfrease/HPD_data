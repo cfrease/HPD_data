{
 "cells": [
  {
   "cell_type": "code",
   "execution_count": 1,
   "metadata": {},
   "outputs": [],
   "source": [
    "import pandas as pd\n",
    "import seaborn as sns \n",
    "import numpy as np\n",
    "import matplotlib.pyplot as plt\n",
    "%matplotlib inline"
   ]
  },
  {
   "cell_type": "code",
   "execution_count": 2,
   "metadata": {},
   "outputs": [],
   "source": [
    "df = pd.read_csv('/Users/awesome/Downloads/Data Analysis/HPD/HPD.csv', parse_dates = ['Occurrence\\nDate'])"
   ]
  },
  {
   "cell_type": "code",
   "execution_count": 3,
   "metadata": {},
   "outputs": [
    {
     "data": {
      "text/plain": [
       "['Incident',\n",
       " 'Occurrence Date',\n",
       " 'Occurrence Hour',\n",
       " 'NIBRS Class',\n",
       " 'NIBRSDescription',\n",
       " 'Offense Count',\n",
       " 'Beat',\n",
       " 'Premise',\n",
       " 'Block Range',\n",
       " 'StreetName',\n",
       " 'Street Type',\n",
       " 'Suffix',\n",
       " 'ZIP Code']"
      ]
     },
     "execution_count": 3,
     "metadata": {},
     "output_type": "execute_result"
    }
   ],
   "source": [
    "df.columns = df.columns.str.replace('\\n',' ')\n",
    "list(df.columns)"
   ]
  },
  {
   "cell_type": "code",
   "execution_count": 4,
   "metadata": {},
   "outputs": [
    {
     "name": "stdout",
     "output_type": "stream",
     "text": [
      "<class 'pandas.core.frame.DataFrame'>\n",
      "RangeIndex: 218428 entries, 0 to 218427\n",
      "Data columns (total 13 columns):\n",
      " #   Column            Non-Null Count   Dtype         \n",
      "---  ------            --------------   -----         \n",
      " 0   Incident          218428 non-null  int64         \n",
      " 1   Occurrence Date   218428 non-null  datetime64[ns]\n",
      " 2   Occurrence Hour   218428 non-null  int64         \n",
      " 3   NIBRS Class       218428 non-null  object        \n",
      " 4   NIBRSDescription  218428 non-null  object        \n",
      " 5   Offense Count     218428 non-null  int64         \n",
      " 6   Beat              218307 non-null  object        \n",
      " 7   Premise           218428 non-null  object        \n",
      " 8   Block Range       218428 non-null  int64         \n",
      " 9   StreetName        218428 non-null  object        \n",
      " 10  Street Type       200763 non-null  object        \n",
      " 11  Suffix            30456 non-null   object        \n",
      " 12  ZIP Code          215724 non-null  object        \n",
      "dtypes: datetime64[ns](1), int64(4), object(8)\n",
      "memory usage: 21.7+ MB\n"
     ]
    }
   ],
   "source": [
    "df.info()"
   ]
  },
  {
   "cell_type": "code",
   "execution_count": 5,
   "metadata": {},
   "outputs": [
    {
     "data": {
      "text/plain": [
       "(218428, 13)"
      ]
     },
     "execution_count": 5,
     "metadata": {},
     "output_type": "execute_result"
    }
   ],
   "source": [
    "df.shape"
   ]
  },
  {
   "cell_type": "code",
   "execution_count": 6,
   "metadata": {},
   "outputs": [],
   "source": [
    "df.rename(columns={'Occurrence Date':'Date','Occurrence Hour':'Hour', 'NIBRSDescription':'Description'}, inplace=True)"
   ]
  },
  {
   "cell_type": "code",
   "execution_count": 7,
   "metadata": {},
   "outputs": [
    {
     "data": {
      "text/html": [
       "<div>\n",
       "<style scoped>\n",
       "    .dataframe tbody tr th:only-of-type {\n",
       "        vertical-align: middle;\n",
       "    }\n",
       "\n",
       "    .dataframe tbody tr th {\n",
       "        vertical-align: top;\n",
       "    }\n",
       "\n",
       "    .dataframe thead th {\n",
       "        text-align: right;\n",
       "    }\n",
       "</style>\n",
       "<table border=\"1\" class=\"dataframe\">\n",
       "  <thead>\n",
       "    <tr style=\"text-align: right;\">\n",
       "      <th></th>\n",
       "      <th>Incident</th>\n",
       "      <th>Date</th>\n",
       "      <th>Hour</th>\n",
       "      <th>NIBRS Class</th>\n",
       "      <th>Description</th>\n",
       "      <th>Offense Count</th>\n",
       "      <th>Beat</th>\n",
       "      <th>Premise</th>\n",
       "      <th>Block Range</th>\n",
       "      <th>StreetName</th>\n",
       "      <th>Street Type</th>\n",
       "      <th>Suffix</th>\n",
       "      <th>ZIP Code</th>\n",
       "    </tr>\n",
       "  </thead>\n",
       "  <tbody>\n",
       "    <tr>\n",
       "      <th>168896</th>\n",
       "      <td>133282319</td>\n",
       "      <td>2019-10-10</td>\n",
       "      <td>23</td>\n",
       "      <td>13A</td>\n",
       "      <td>Aggravated Assault</td>\n",
       "      <td>1</td>\n",
       "      <td>5F30</td>\n",
       "      <td>Hotel, Motel, ETC</td>\n",
       "      <td>14255</td>\n",
       "      <td>NORTHWEST</td>\n",
       "      <td>FWY</td>\n",
       "      <td>NaN</td>\n",
       "      <td>77040</td>\n",
       "    </tr>\n",
       "    <tr>\n",
       "      <th>174049</th>\n",
       "      <td>137540119</td>\n",
       "      <td>2019-10-19</td>\n",
       "      <td>16</td>\n",
       "      <td>13B</td>\n",
       "      <td>Simple assault</td>\n",
       "      <td>1</td>\n",
       "      <td>3B50</td>\n",
       "      <td>Residence, Home (Includes Apartment)</td>\n",
       "      <td>7900</td>\n",
       "      <td>BAUMAN</td>\n",
       "      <td>RD</td>\n",
       "      <td>NaN</td>\n",
       "      <td>77022</td>\n",
       "    </tr>\n",
       "    <tr>\n",
       "      <th>107278</th>\n",
       "      <td>84586519</td>\n",
       "      <td>2019-07-03</td>\n",
       "      <td>11</td>\n",
       "      <td>13A</td>\n",
       "      <td>Aggravated Assault</td>\n",
       "      <td>1</td>\n",
       "      <td>9C10</td>\n",
       "      <td>Highway, Road, Street, Alley</td>\n",
       "      <td>10100</td>\n",
       "      <td>EAST</td>\n",
       "      <td>FWY</td>\n",
       "      <td>NaN</td>\n",
       "      <td>77029</td>\n",
       "    </tr>\n",
       "    <tr>\n",
       "      <th>9939</th>\n",
       "      <td>8263319</td>\n",
       "      <td>2019-01-19</td>\n",
       "      <td>2</td>\n",
       "      <td>23F</td>\n",
       "      <td>Theft from motor vehicle</td>\n",
       "      <td>1</td>\n",
       "      <td>1A20</td>\n",
       "      <td>Highway, Road, Street, Alley</td>\n",
       "      <td>200</td>\n",
       "      <td>GRAY</td>\n",
       "      <td>ST</td>\n",
       "      <td>NaN</td>\n",
       "      <td>77002</td>\n",
       "    </tr>\n",
       "    <tr>\n",
       "      <th>177524</th>\n",
       "      <td>140285719</td>\n",
       "      <td>2019-10-25</td>\n",
       "      <td>0</td>\n",
       "      <td>26F</td>\n",
       "      <td>Identify theft</td>\n",
       "      <td>1</td>\n",
       "      <td>10H70</td>\n",
       "      <td>Residence, Home (Includes Apartment)</td>\n",
       "      <td>7111</td>\n",
       "      <td>ARDMORE</td>\n",
       "      <td>ST</td>\n",
       "      <td>NaN</td>\n",
       "      <td>77021</td>\n",
       "    </tr>\n",
       "  </tbody>\n",
       "</table>\n",
       "</div>"
      ],
      "text/plain": [
       "         Incident       Date  Hour NIBRS Class               Description  \\\n",
       "168896  133282319 2019-10-10    23         13A        Aggravated Assault   \n",
       "174049  137540119 2019-10-19    16         13B            Simple assault   \n",
       "107278   84586519 2019-07-03    11         13A        Aggravated Assault   \n",
       "9939      8263319 2019-01-19     2         23F  Theft from motor vehicle   \n",
       "177524  140285719 2019-10-25     0         26F            Identify theft   \n",
       "\n",
       "        Offense Count   Beat                               Premise  \\\n",
       "168896              1   5F30                     Hotel, Motel, ETC   \n",
       "174049              1   3B50  Residence, Home (Includes Apartment)   \n",
       "107278              1   9C10          Highway, Road, Street, Alley   \n",
       "9939                1   1A20          Highway, Road, Street, Alley   \n",
       "177524              1  10H70  Residence, Home (Includes Apartment)   \n",
       "\n",
       "        Block Range StreetName Street Type Suffix ZIP Code  \n",
       "168896        14255  NORTHWEST         FWY    NaN    77040  \n",
       "174049         7900     BAUMAN          RD    NaN    77022  \n",
       "107278        10100       EAST         FWY    NaN    77029  \n",
       "9939            200       GRAY          ST    NaN    77002  \n",
       "177524         7111    ARDMORE          ST    NaN    77021  "
      ]
     },
     "execution_count": 7,
     "metadata": {},
     "output_type": "execute_result"
    }
   ],
   "source": [
    "df.sample(5)"
   ]
  },
  {
   "cell_type": "code",
   "execution_count": 8,
   "metadata": {},
   "outputs": [],
   "source": [
    "df['Month'] = df['Date'].dt.month\n",
    "column_move1 = df['Month']\n",
    "df.drop(labels=['Month'], axis=1, inplace=True)\n",
    "df.insert(2,'Month', column_move1)\n",
    "\n",
    "df['Day'] = df['Date'].dt.day\n",
    "column_move2 = df['Day']\n",
    "df.drop(labels=['Day'], axis=1, inplace=True)\n",
    "df.insert(3,'Day', column_move2)\n",
    "\n",
    "df['Day_of_Week'] = df['Date'].dt.day_name()\n",
    "column_move3 = df['Day_of_Week']\n",
    "df.drop(labels=['Day_of_Week'], axis=1, inplace=True)\n",
    "df.insert(4,'Day_of_Week', column_move3)\n",
    "\n",
    "df['week_of_year'] = df['Date'].apply(lambda x: x.weekofyear)\n",
    "column_move4 = df['week_of_year']\n",
    "df.drop(labels=['week_of_year'], axis=1, inplace=True)\n",
    "df.insert(5,'week_of_year', column_move4)\n",
    "\n",
    "df['day_of_year'] = df['Date'].apply(lambda x: x.dayofyear)\n",
    "column_move5 = df['day_of_year']\n",
    "df.drop(labels=['day_of_year'], axis=1, inplace=True)\n",
    "df.insert(6,'day_of_year', column_move5)"
   ]
  },
  {
   "cell_type": "code",
   "execution_count": 9,
   "metadata": {
    "scrolled": true
   },
   "outputs": [
    {
     "data": {
      "text/html": [
       "<div>\n",
       "<style scoped>\n",
       "    .dataframe tbody tr th:only-of-type {\n",
       "        vertical-align: middle;\n",
       "    }\n",
       "\n",
       "    .dataframe tbody tr th {\n",
       "        vertical-align: top;\n",
       "    }\n",
       "\n",
       "    .dataframe thead th {\n",
       "        text-align: right;\n",
       "    }\n",
       "</style>\n",
       "<table border=\"1\" class=\"dataframe\">\n",
       "  <thead>\n",
       "    <tr style=\"text-align: right;\">\n",
       "      <th></th>\n",
       "      <th>Incident</th>\n",
       "      <th>Date</th>\n",
       "      <th>Month</th>\n",
       "      <th>Day</th>\n",
       "      <th>Day_of_Week</th>\n",
       "      <th>week_of_year</th>\n",
       "      <th>day_of_year</th>\n",
       "      <th>Hour</th>\n",
       "      <th>NIBRS Class</th>\n",
       "      <th>Description</th>\n",
       "      <th>Offense Count</th>\n",
       "      <th>Beat</th>\n",
       "      <th>Premise</th>\n",
       "      <th>Block Range</th>\n",
       "      <th>StreetName</th>\n",
       "      <th>Street Type</th>\n",
       "      <th>Suffix</th>\n",
       "      <th>ZIP Code</th>\n",
       "    </tr>\n",
       "  </thead>\n",
       "  <tbody>\n",
       "    <tr>\n",
       "      <th>132678</th>\n",
       "      <td>104232319</td>\n",
       "      <td>2019-08-12</td>\n",
       "      <td>8</td>\n",
       "      <td>12</td>\n",
       "      <td>Monday</td>\n",
       "      <td>33</td>\n",
       "      <td>224</td>\n",
       "      <td>18</td>\n",
       "      <td>240</td>\n",
       "      <td>Motor vehicle theft</td>\n",
       "      <td>1</td>\n",
       "      <td>10H40</td>\n",
       "      <td>Other, Unknown</td>\n",
       "      <td>2403</td>\n",
       "      <td>CAROLINE</td>\n",
       "      <td>ST</td>\n",
       "      <td>NaN</td>\n",
       "      <td>77004</td>\n",
       "    </tr>\n",
       "    <tr>\n",
       "      <th>31887</th>\n",
       "      <td>25787019</td>\n",
       "      <td>2019-02-27</td>\n",
       "      <td>2</td>\n",
       "      <td>27</td>\n",
       "      <td>Wednesday</td>\n",
       "      <td>9</td>\n",
       "      <td>58</td>\n",
       "      <td>21</td>\n",
       "      <td>23F</td>\n",
       "      <td>Theft from motor vehicle</td>\n",
       "      <td>1</td>\n",
       "      <td>10H60</td>\n",
       "      <td>Parking Lot, Garage</td>\n",
       "      <td>3200</td>\n",
       "      <td>MACGREGOR</td>\n",
       "      <td>WAY</td>\n",
       "      <td>N</td>\n",
       "      <td>77004</td>\n",
       "    </tr>\n",
       "    <tr>\n",
       "      <th>57024</th>\n",
       "      <td>45984219</td>\n",
       "      <td>2019-04-12</td>\n",
       "      <td>4</td>\n",
       "      <td>12</td>\n",
       "      <td>Friday</td>\n",
       "      <td>15</td>\n",
       "      <td>102</td>\n",
       "      <td>22</td>\n",
       "      <td>23F</td>\n",
       "      <td>Theft from motor vehicle</td>\n",
       "      <td>1</td>\n",
       "      <td>2A30</td>\n",
       "      <td>Highway, Road, Street, Alley</td>\n",
       "      <td>800</td>\n",
       "      <td>BEVERLY</td>\n",
       "      <td>ST</td>\n",
       "      <td>NaN</td>\n",
       "      <td>77007</td>\n",
       "    </tr>\n",
       "    <tr>\n",
       "      <th>75715</th>\n",
       "      <td>63158619</td>\n",
       "      <td>2019-05-13</td>\n",
       "      <td>5</td>\n",
       "      <td>13</td>\n",
       "      <td>Monday</td>\n",
       "      <td>20</td>\n",
       "      <td>133</td>\n",
       "      <td>13</td>\n",
       "      <td>23G</td>\n",
       "      <td>Theft of motor vehicle parts or accessory</td>\n",
       "      <td>1</td>\n",
       "      <td>15E40</td>\n",
       "      <td>Other, Unknown</td>\n",
       "      <td>3502</td>\n",
       "      <td>CLEARVIEW</td>\n",
       "      <td>CIR</td>\n",
       "      <td>NaN</td>\n",
       "      <td>77054</td>\n",
       "    </tr>\n",
       "    <tr>\n",
       "      <th>89920</th>\n",
       "      <td>70993419</td>\n",
       "      <td>2019-06-04</td>\n",
       "      <td>6</td>\n",
       "      <td>4</td>\n",
       "      <td>Tuesday</td>\n",
       "      <td>23</td>\n",
       "      <td>155</td>\n",
       "      <td>22</td>\n",
       "      <td>23F</td>\n",
       "      <td>Theft from motor vehicle</td>\n",
       "      <td>1</td>\n",
       "      <td>7C20</td>\n",
       "      <td>Residence, Home (Includes Apartment)</td>\n",
       "      <td>4809</td>\n",
       "      <td>LAVENDER</td>\n",
       "      <td>ST</td>\n",
       "      <td>NaN</td>\n",
       "      <td>77026</td>\n",
       "    </tr>\n",
       "  </tbody>\n",
       "</table>\n",
       "</div>"
      ],
      "text/plain": [
       "         Incident       Date  Month  Day Day_of_Week  week_of_year  \\\n",
       "132678  104232319 2019-08-12      8   12      Monday            33   \n",
       "31887    25787019 2019-02-27      2   27   Wednesday             9   \n",
       "57024    45984219 2019-04-12      4   12      Friday            15   \n",
       "75715    63158619 2019-05-13      5   13      Monday            20   \n",
       "89920    70993419 2019-06-04      6    4     Tuesday            23   \n",
       "\n",
       "        day_of_year  Hour NIBRS Class  \\\n",
       "132678          224    18         240   \n",
       "31887            58    21         23F   \n",
       "57024           102    22         23F   \n",
       "75715           133    13         23G   \n",
       "89920           155    22         23F   \n",
       "\n",
       "                                      Description  Offense Count   Beat  \\\n",
       "132678                        Motor vehicle theft              1  10H40   \n",
       "31887                    Theft from motor vehicle              1  10H60   \n",
       "57024                    Theft from motor vehicle              1   2A30   \n",
       "75715   Theft of motor vehicle parts or accessory              1  15E40   \n",
       "89920                    Theft from motor vehicle              1   7C20   \n",
       "\n",
       "                                     Premise  Block Range StreetName  \\\n",
       "132678                        Other, Unknown         2403   CAROLINE   \n",
       "31887                    Parking Lot, Garage         3200  MACGREGOR   \n",
       "57024           Highway, Road, Street, Alley          800    BEVERLY   \n",
       "75715                         Other, Unknown         3502  CLEARVIEW   \n",
       "89920   Residence, Home (Includes Apartment)         4809   LAVENDER   \n",
       "\n",
       "       Street Type Suffix ZIP Code  \n",
       "132678          ST    NaN    77004  \n",
       "31887          WAY      N    77004  \n",
       "57024           ST    NaN    77007  \n",
       "75715          CIR    NaN    77054  \n",
       "89920           ST    NaN    77026  "
      ]
     },
     "execution_count": 9,
     "metadata": {},
     "output_type": "execute_result"
    }
   ],
   "source": [
    "df.sample(5)"
   ]
  },
  {
   "cell_type": "code",
   "execution_count": null,
   "metadata": {},
   "outputs": [],
   "source": []
  },
  {
   "cell_type": "markdown",
   "metadata": {},
   "source": [
    "# How many incidents are happening each day?"
   ]
  },
  {
   "cell_type": "code",
   "execution_count": 10,
   "metadata": {},
   "outputs": [
    {
     "data": {
      "text/plain": [
       "count    365.000000\n",
       "mean     598.432877\n",
       "std       50.814076\n",
       "min      449.000000\n",
       "25%      566.000000\n",
       "50%      600.000000\n",
       "75%      634.000000\n",
       "max      765.000000\n",
       "Name: Date, dtype: float64"
      ]
     },
     "execution_count": 10,
     "metadata": {},
     "output_type": "execute_result"
    }
   ],
   "source": [
    "df['Date'].value_counts().describe()"
   ]
  },
  {
   "cell_type": "code",
   "execution_count": 11,
   "metadata": {},
   "outputs": [
    {
     "data": {
      "text/plain": [
       "2019-05-01    765\n",
       "2019-07-01    764\n",
       "2019-06-01    723\n",
       "2019-08-01    708\n",
       "2019-11-01    705\n",
       "2019-12-06    704\n",
       "2019-11-22    704\n",
       "2019-04-29    695\n",
       "2019-05-15    691\n",
       "2019-06-08    690\n",
       "Name: Date, dtype: int64"
      ]
     },
     "execution_count": 11,
     "metadata": {},
     "output_type": "execute_result"
    }
   ],
   "source": [
    "df['Date'].value_counts()[:10]"
   ]
  },
  {
   "cell_type": "code",
   "execution_count": 12,
   "metadata": {},
   "outputs": [],
   "source": [
    "##On average there are about 598 reported incidents with decent spread of data due to a small standard deviation."
   ]
  },
  {
   "cell_type": "code",
   "execution_count": 13,
   "metadata": {},
   "outputs": [
    {
     "data": {
      "text/html": [
       "<div>\n",
       "<style scoped>\n",
       "    .dataframe tbody tr th:only-of-type {\n",
       "        vertical-align: middle;\n",
       "    }\n",
       "\n",
       "    .dataframe tbody tr th {\n",
       "        vertical-align: top;\n",
       "    }\n",
       "\n",
       "    .dataframe thead th {\n",
       "        text-align: right;\n",
       "    }\n",
       "</style>\n",
       "<table border=\"1\" class=\"dataframe\">\n",
       "  <thead>\n",
       "    <tr style=\"text-align: right;\">\n",
       "      <th></th>\n",
       "      <th>Date</th>\n",
       "      <th>count</th>\n",
       "    </tr>\n",
       "  </thead>\n",
       "  <tbody>\n",
       "    <tr>\n",
       "      <th>63</th>\n",
       "      <td>2019-03-05</td>\n",
       "      <td>456</td>\n",
       "    </tr>\n",
       "    <tr>\n",
       "      <th>110</th>\n",
       "      <td>2019-04-21</td>\n",
       "      <td>449</td>\n",
       "    </tr>\n",
       "    <tr>\n",
       "      <th>120</th>\n",
       "      <td>2019-05-01</td>\n",
       "      <td>765</td>\n",
       "    </tr>\n",
       "    <tr>\n",
       "      <th>181</th>\n",
       "      <td>2019-07-01</td>\n",
       "      <td>764</td>\n",
       "    </tr>\n",
       "    <tr>\n",
       "      <th>331</th>\n",
       "      <td>2019-11-28</td>\n",
       "      <td>456</td>\n",
       "    </tr>\n",
       "  </tbody>\n",
       "</table>\n",
       "</div>"
      ],
      "text/plain": [
       "          Date  count\n",
       "63  2019-03-05    456\n",
       "110 2019-04-21    449\n",
       "120 2019-05-01    765\n",
       "181 2019-07-01    764\n",
       "331 2019-11-28    456"
      ]
     },
     "execution_count": 13,
     "metadata": {},
     "output_type": "execute_result"
    }
   ],
   "source": [
    "df_count = df.groupby(['Date'])['Date'].agg(['count']).sort_values(by='Date').reset_index()\n",
    "q1 = df_count['count'].quantile(0.25)\n",
    "q3 = df_count['count'].quantile(0.75)\n",
    "iqr = q3 -q1\n",
    "l_limit = q1 -1.5*iqr\n",
    "u_limit = q3 + 1.5*iqr\n",
    "df_count[(df_count['count'] < l_limit) | (df_count['count'] > u_limit)]"
   ]
  },
  {
   "cell_type": "code",
   "execution_count": 14,
   "metadata": {},
   "outputs": [
    {
     "data": {
      "image/png": "[encoded data removed]",
      "text/plain": [
       "<Figure size 1728x864 with 1 Axes>"
      ]
     },
     "metadata": {
      "needs_background": "light"
     },
     "output_type": "display_data"
    }
   ],
   "source": [
    "plt.figure(figsize=(24,12))\n",
    "sns.boxplot(x='count', data=df_count, showfliers=False)\n",
    "sns.swarmplot(x='count', data=df_count, color=\"orange\", s=10)\n",
    "plt.show()"
   ]
  },
  {
   "cell_type": "markdown",
   "metadata": {},
   "source": [
    "## What are the top 10 most reported incidents?"
   ]
  },
  {
   "cell_type": "code",
   "execution_count": 15,
   "metadata": {},
   "outputs": [
    {
     "data": {
      "text/html": [
       "<div>\n",
       "<style scoped>\n",
       "    .dataframe tbody tr th:only-of-type {\n",
       "        vertical-align: middle;\n",
       "    }\n",
       "\n",
       "    .dataframe tbody tr th {\n",
       "        vertical-align: top;\n",
       "    }\n",
       "\n",
       "    .dataframe thead th {\n",
       "        text-align: right;\n",
       "    }\n",
       "</style>\n",
       "<table border=\"1\" class=\"dataframe\">\n",
       "  <thead>\n",
       "    <tr style=\"text-align: right;\">\n",
       "      <th></th>\n",
       "      <th>Total</th>\n",
       "      <th>Percent</th>\n",
       "    </tr>\n",
       "  </thead>\n",
       "  <tbody>\n",
       "    <tr>\n",
       "      <th>Theft from motor vehicle</th>\n",
       "      <td>33062</td>\n",
       "      <td>0.151363</td>\n",
       "    </tr>\n",
       "    <tr>\n",
       "      <th>Simple assault</th>\n",
       "      <td>27138</td>\n",
       "      <td>0.124242</td>\n",
       "    </tr>\n",
       "    <tr>\n",
       "      <th>Destruction, damage, vandalism</th>\n",
       "      <td>21617</td>\n",
       "      <td>0.098966</td>\n",
       "    </tr>\n",
       "    <tr>\n",
       "      <th>All other larceny</th>\n",
       "      <td>18440</td>\n",
       "      <td>0.084421</td>\n",
       "    </tr>\n",
       "    <tr>\n",
       "      <th>Burglary, Breaking and Entering</th>\n",
       "      <td>16879</td>\n",
       "      <td>0.077275</td>\n",
       "    </tr>\n",
       "    <tr>\n",
       "      <th>Intimidation</th>\n",
       "      <td>14135</td>\n",
       "      <td>0.064712</td>\n",
       "    </tr>\n",
       "    <tr>\n",
       "      <th>Motor vehicle theft</th>\n",
       "      <td>13075</td>\n",
       "      <td>0.059860</td>\n",
       "    </tr>\n",
       "    <tr>\n",
       "      <th>Aggravated Assault</th>\n",
       "      <td>12652</td>\n",
       "      <td>0.057923</td>\n",
       "    </tr>\n",
       "    <tr>\n",
       "      <th>Shoplifting</th>\n",
       "      <td>10788</td>\n",
       "      <td>0.049389</td>\n",
       "    </tr>\n",
       "    <tr>\n",
       "      <th>Robbery</th>\n",
       "      <td>9195</td>\n",
       "      <td>0.042096</td>\n",
       "    </tr>\n",
       "  </tbody>\n",
       "</table>\n",
       "</div>"
      ],
      "text/plain": [
       "                                 Total   Percent\n",
       "Theft from motor vehicle         33062  0.151363\n",
       "Simple assault                   27138  0.124242\n",
       "Destruction, damage, vandalism   21617  0.098966\n",
       "All other larceny                18440  0.084421\n",
       "Burglary, Breaking and Entering  16879  0.077275\n",
       "Intimidation                     14135  0.064712\n",
       "Motor vehicle theft              13075  0.059860\n",
       "Aggravated Assault               12652  0.057923\n",
       "Shoplifting                      10788  0.049389\n",
       "Robbery                           9195  0.042096"
      ]
     },
     "execution_count": 15,
     "metadata": {},
     "output_type": "execute_result"
    }
   ],
   "source": [
    "def count_per(data):\n",
    "    Total = df['Description'].value_counts()[:10]\n",
    "    Percentage = df['Description'].value_counts(normalize=True)[:10]\n",
    "    \n",
    "    return pd.concat([Total,Percentage], axis=1, keys = ['Total', 'Percent'])\n",
    "count_per(df)"
   ]
  },
  {
   "cell_type": "code",
   "execution_count": 16,
   "metadata": {},
   "outputs": [
    {
     "data": {
      "text/plain": [
       "count    90.580822\n",
       "dtype: float64"
      ]
     },
     "execution_count": 16,
     "metadata": {},
     "output_type": "execute_result"
    }
   ],
   "source": [
    "df[df['Description']=='Theft from motor vehicle'].groupby(['Date'])['Date'].agg(['count']).mean()"
   ]
  },
  {
   "cell_type": "code",
   "execution_count": 17,
   "metadata": {},
   "outputs": [
    {
     "data": {
      "text/plain": [
       "count    74.350685\n",
       "dtype: float64"
      ]
     },
     "execution_count": 17,
     "metadata": {},
     "output_type": "execute_result"
    }
   ],
   "source": [
    "df[df['Description']=='Simple assault'].groupby(['Date'])['Date'].agg(['count']).mean()"
   ]
  },
  {
   "cell_type": "code",
   "execution_count": 18,
   "metadata": {},
   "outputs": [
    {
     "data": {
      "image/png": "[encoded data removed]",
      "text/plain": [
       "<Figure size 1440x864 with 1 Axes>"
      ]
     },
     "metadata": {
      "needs_background": "light"
     },
     "output_type": "display_data"
    }
   ],
   "source": [
    "fig, ax = plt.subplots(figsize=(20,12))\n",
    "ax = df[df['Description']=='Theft from motor vehicle'].groupby(['Date'])['Date'].count().plot(kind='hist', density=True)\n",
    "ax1 = df[df['Description']=='Theft from motor vehicle'].groupby(['Date'])['Date'].count().plot(kind='kde')\n",
    "plt.show()"
   ]
  },
  {
   "cell_type": "code",
   "execution_count": 19,
   "metadata": {},
   "outputs": [],
   "source": [
    "##Theft from motor vehicle is the most reported incident and an average of over 90 reports a day.\n",
    "## Thats about 22% more than simple assault."
   ]
  },
  {
   "cell_type": "code",
   "execution_count": 20,
   "metadata": {
    "scrolled": false
   },
   "outputs": [
    {
     "data": {
      "image/png": "[encoded data removed]",
      "text/plain": [
       "<Figure size 864x432 with 1 Axes>"
      ]
     },
     "metadata": {
      "needs_background": "light"
     },
     "output_type": "display_data"
    },
    {
     "data": {
      "image/png": "[encoded data removed]",
      "text/plain": [
       "<Figure size 864x432 with 1 Axes>"
      ]
     },
     "metadata": {
      "needs_background": "light"
     },
     "output_type": "display_data"
    },
    {
     "data": {
      "image/png": "[encoded data removed]",
      "text/plain": [
       "<Figure size 864x432 with 1 Axes>"
      ]
     },
     "metadata": {
      "needs_background": "light"
     },
     "output_type": "display_data"
    },
    {
     "data": {
      "image/png": "[encoded data removed]",
      "text/plain": [
       "<Figure size 864x432 with 1 Axes>"
      ]
     },
     "metadata": {
      "needs_background": "light"
     },
     "output_type": "display_data"
    },
    {
     "data": {
      "image/png": "[encoded data removed]",
      "text/plain": [
       "<Figure size 864x432 with 1 Axes>"
      ]
     },
     "metadata": {
      "needs_background": "light"
     },
     "output_type": "display_data"
    }
   ],
   "source": [
    "d = [x for x in df['Description'].value_counts()[:5].index]\n",
    "for y in range(0,5):\n",
    "    cmap = plt.get_cmap(\"seismic\", len(d)+1)\n",
    "    data = df[df['Description']==d[y]].groupby(['Month'])['Month'].agg(['count'])\n",
    "    fig, ax = plt.subplots(figsize=(12,6), subplot_kw={'ylim': (0,4000)})\n",
    "    ax = sns.lineplot(data=data, x=\"Month\", y=\"count\", label = d[y], color = cmap(y))\n",
    "    mean = data['count'].mean()\n",
    "    ax.axhline(mean, color='black')\n",
    "    plt.xticks(range(1,13))\n",
    "    plt.margins(0)\n",
    "    plt.legend(loc='best', prop={'size':20})\n",
    "    plt.show()"
   ]
  },
  {
   "cell_type": "markdown",
   "metadata": {},
   "source": [
    "# What type of locations are these incidents happening mostly at?"
   ]
  },
  {
   "cell_type": "code",
   "execution_count": 21,
   "metadata": {},
   "outputs": [
    {
     "data": {
      "text/html": [
       "<div>\n",
       "<style scoped>\n",
       "    .dataframe tbody tr th:only-of-type {\n",
       "        vertical-align: middle;\n",
       "    }\n",
       "\n",
       "    .dataframe tbody tr th {\n",
       "        vertical-align: top;\n",
       "    }\n",
       "\n",
       "    .dataframe thead th {\n",
       "        text-align: right;\n",
       "    }\n",
       "</style>\n",
       "<table border=\"1\" class=\"dataframe\">\n",
       "  <thead>\n",
       "    <tr style=\"text-align: right;\">\n",
       "      <th></th>\n",
       "      <th>Total</th>\n",
       "      <th>Percent</th>\n",
       "    </tr>\n",
       "  </thead>\n",
       "  <tbody>\n",
       "    <tr>\n",
       "      <th>Residence, Home (Includes Apartment)</th>\n",
       "      <td>81140</td>\n",
       "      <td>0.371473</td>\n",
       "    </tr>\n",
       "    <tr>\n",
       "      <th>Parking Lot, Garage</th>\n",
       "      <td>42139</td>\n",
       "      <td>0.192919</td>\n",
       "    </tr>\n",
       "    <tr>\n",
       "      <th>Highway, Road, Street, Alley</th>\n",
       "      <td>27743</td>\n",
       "      <td>0.127012</td>\n",
       "    </tr>\n",
       "    <tr>\n",
       "      <th>Other, Unknown</th>\n",
       "      <td>9988</td>\n",
       "      <td>0.045727</td>\n",
       "    </tr>\n",
       "    <tr>\n",
       "      <th>Department, Discount Store</th>\n",
       "      <td>7118</td>\n",
       "      <td>0.032587</td>\n",
       "    </tr>\n",
       "    <tr>\n",
       "      <th>Restaurant</th>\n",
       "      <td>6146</td>\n",
       "      <td>0.028137</td>\n",
       "    </tr>\n",
       "    <tr>\n",
       "      <th>Commercial, Office Building</th>\n",
       "      <td>5678</td>\n",
       "      <td>0.025995</td>\n",
       "    </tr>\n",
       "    <tr>\n",
       "      <th>Convenience Store</th>\n",
       "      <td>5372</td>\n",
       "      <td>0.024594</td>\n",
       "    </tr>\n",
       "    <tr>\n",
       "      <th>Service, Gas Station</th>\n",
       "      <td>4816</td>\n",
       "      <td>0.022048</td>\n",
       "    </tr>\n",
       "    <tr>\n",
       "      <th>Hotel, Motel, ETC</th>\n",
       "      <td>4029</td>\n",
       "      <td>0.018445</td>\n",
       "    </tr>\n",
       "  </tbody>\n",
       "</table>\n",
       "</div>"
      ],
      "text/plain": [
       "                                      Total   Percent\n",
       "Residence, Home (Includes Apartment)  81140  0.371473\n",
       "Parking Lot, Garage                   42139  0.192919\n",
       "Highway, Road, Street, Alley          27743  0.127012\n",
       "Other, Unknown                         9988  0.045727\n",
       "Department, Discount Store             7118  0.032587\n",
       "Restaurant                             6146  0.028137\n",
       "Commercial, Office Building            5678  0.025995\n",
       "Convenience Store                      5372  0.024594\n",
       "Service, Gas Station                   4816  0.022048\n",
       "Hotel, Motel, ETC                      4029  0.018445"
      ]
     },
     "execution_count": 21,
     "metadata": {},
     "output_type": "execute_result"
    }
   ],
   "source": [
    "def count_per(data):\n",
    "    Total = df['Premise'].value_counts()[:10]\n",
    "    Percentage = df['Premise'].value_counts(normalize=True)[:10]\n",
    "    \n",
    "    return pd.concat([Total,Percentage], axis=1, keys = ['Total', 'Percent'])\n",
    "count_per(df)"
   ]
  },
  {
   "cell_type": "code",
   "execution_count": 22,
   "metadata": {},
   "outputs": [],
   "source": [
    "##There are 2 times as more incidents happening in residental area than Parking Lot, Garage.\n",
    "## 37% chance of an incident happening at residental area."
   ]
  },
  {
   "cell_type": "code",
   "execution_count": 23,
   "metadata": {},
   "outputs": [
    {
     "data": {
      "text/html": [
       "<div>\n",
       "<style scoped>\n",
       "    .dataframe tbody tr th:only-of-type {\n",
       "        vertical-align: middle;\n",
       "    }\n",
       "\n",
       "    .dataframe tbody tr th {\n",
       "        vertical-align: top;\n",
       "    }\n",
       "\n",
       "    .dataframe thead th {\n",
       "        text-align: right;\n",
       "    }\n",
       "</style>\n",
       "<table border=\"1\" class=\"dataframe\">\n",
       "  <thead>\n",
       "    <tr style=\"text-align: right;\">\n",
       "      <th></th>\n",
       "      <th>Total</th>\n",
       "      <th>Percent</th>\n",
       "      <th>Overall</th>\n",
       "    </tr>\n",
       "  </thead>\n",
       "  <tbody>\n",
       "    <tr>\n",
       "      <th>Parking Lot, Garage</th>\n",
       "      <td>17675</td>\n",
       "      <td>0.534602</td>\n",
       "      <td>0.080919</td>\n",
       "    </tr>\n",
       "    <tr>\n",
       "      <th>Residence, Home (Includes Apartment)</th>\n",
       "      <td>5573</td>\n",
       "      <td>0.168562</td>\n",
       "      <td>0.025514</td>\n",
       "    </tr>\n",
       "    <tr>\n",
       "      <th>Highway, Road, Street, Alley</th>\n",
       "      <td>4537</td>\n",
       "      <td>0.137227</td>\n",
       "      <td>0.020771</td>\n",
       "    </tr>\n",
       "    <tr>\n",
       "      <th>Restaurant</th>\n",
       "      <td>1052</td>\n",
       "      <td>0.031819</td>\n",
       "      <td>0.004816</td>\n",
       "    </tr>\n",
       "    <tr>\n",
       "      <th>Hotel, Motel, ETC</th>\n",
       "      <td>596</td>\n",
       "      <td>0.018027</td>\n",
       "      <td>0.002729</td>\n",
       "    </tr>\n",
       "    <tr>\n",
       "      <th>Other, Unknown</th>\n",
       "      <td>584</td>\n",
       "      <td>0.017664</td>\n",
       "      <td>0.002674</td>\n",
       "    </tr>\n",
       "    <tr>\n",
       "      <th>Park/Playground</th>\n",
       "      <td>574</td>\n",
       "      <td>0.017361</td>\n",
       "      <td>0.002628</td>\n",
       "    </tr>\n",
       "    <tr>\n",
       "      <th>Service, Gas Station</th>\n",
       "      <td>533</td>\n",
       "      <td>0.016121</td>\n",
       "      <td>0.002440</td>\n",
       "    </tr>\n",
       "    <tr>\n",
       "      <th>Commercial, Office Building</th>\n",
       "      <td>314</td>\n",
       "      <td>0.009497</td>\n",
       "      <td>0.001438</td>\n",
       "    </tr>\n",
       "    <tr>\n",
       "      <th>Bar, Nightclub</th>\n",
       "      <td>258</td>\n",
       "      <td>0.007804</td>\n",
       "      <td>0.001181</td>\n",
       "    </tr>\n",
       "  </tbody>\n",
       "</table>\n",
       "</div>"
      ],
      "text/plain": [
       "                                      Total   Percent   Overall\n",
       "Parking Lot, Garage                   17675  0.534602  0.080919\n",
       "Residence, Home (Includes Apartment)   5573  0.168562  0.025514\n",
       "Highway, Road, Street, Alley           4537  0.137227  0.020771\n",
       "Restaurant                             1052  0.031819  0.004816\n",
       "Hotel, Motel, ETC                       596  0.018027  0.002729\n",
       "Other, Unknown                          584  0.017664  0.002674\n",
       "Park/Playground                         574  0.017361  0.002628\n",
       "Service, Gas Station                    533  0.016121  0.002440\n",
       "Commercial, Office Building             314  0.009497  0.001438\n",
       "Bar, Nightclub                          258  0.007804  0.001181"
      ]
     },
     "execution_count": 23,
     "metadata": {},
     "output_type": "execute_result"
    }
   ],
   "source": [
    "def count_per(data):\n",
    "    Total = df[df['Description']=='Theft from motor vehicle']['Premise'].value_counts()[:10]\n",
    "    Percentage = df[df['Description']=='Theft from motor vehicle']['Premise'].value_counts(normalize=True)[:10]\n",
    "    Overall = Total/df.shape[0]\n",
    "    \n",
    "    return pd.concat([Total,Percentage, Overall], axis=1, keys = ['Total', 'Percent', 'Overall'])\n",
    "count_per(df)"
   ]
  },
  {
   "cell_type": "code",
   "execution_count": 24,
   "metadata": {},
   "outputs": [],
   "source": [
    "## There are over 3 times as more Theft from motor vehicle happening in Parking Lot, Garage than residental areas.\n",
    "## Given the incident is Theft from motor vehicles, 53% are more likely to happen in Parking Lot, Garage.\n",
    "## 8% of incidients overall"
   ]
  },
  {
   "cell_type": "code",
   "execution_count": 25,
   "metadata": {},
   "outputs": [
    {
     "data": {
      "text/html": [
       "<div>\n",
       "<style scoped>\n",
       "    .dataframe tbody tr th:only-of-type {\n",
       "        vertical-align: middle;\n",
       "    }\n",
       "\n",
       "    .dataframe tbody tr th {\n",
       "        vertical-align: top;\n",
       "    }\n",
       "\n",
       "    .dataframe thead th {\n",
       "        text-align: right;\n",
       "    }\n",
       "</style>\n",
       "<table border=\"1\" class=\"dataframe\">\n",
       "  <thead>\n",
       "    <tr style=\"text-align: right;\">\n",
       "      <th></th>\n",
       "      <th>Total</th>\n",
       "      <th>Percent</th>\n",
       "      <th>Overall</th>\n",
       "    </tr>\n",
       "  </thead>\n",
       "  <tbody>\n",
       "    <tr>\n",
       "      <th>Residence, Home (Includes Apartment)</th>\n",
       "      <td>16760</td>\n",
       "      <td>0.617584</td>\n",
       "      <td>0.076730</td>\n",
       "    </tr>\n",
       "    <tr>\n",
       "      <th>Highway, Road, Street, Alley</th>\n",
       "      <td>2918</td>\n",
       "      <td>0.107525</td>\n",
       "      <td>0.013359</td>\n",
       "    </tr>\n",
       "    <tr>\n",
       "      <th>Parking Lot, Garage</th>\n",
       "      <td>2047</td>\n",
       "      <td>0.075429</td>\n",
       "      <td>0.009372</td>\n",
       "    </tr>\n",
       "    <tr>\n",
       "      <th>Bar, Nightclub</th>\n",
       "      <td>667</td>\n",
       "      <td>0.024578</td>\n",
       "      <td>0.003054</td>\n",
       "    </tr>\n",
       "    <tr>\n",
       "      <th>Hotel, Motel, ETC</th>\n",
       "      <td>663</td>\n",
       "      <td>0.024431</td>\n",
       "      <td>0.003035</td>\n",
       "    </tr>\n",
       "    <tr>\n",
       "      <th>Other, Unknown</th>\n",
       "      <td>551</td>\n",
       "      <td>0.020304</td>\n",
       "      <td>0.002523</td>\n",
       "    </tr>\n",
       "    <tr>\n",
       "      <th>Restaurant</th>\n",
       "      <td>537</td>\n",
       "      <td>0.019788</td>\n",
       "      <td>0.002458</td>\n",
       "    </tr>\n",
       "    <tr>\n",
       "      <th>Convenience Store</th>\n",
       "      <td>469</td>\n",
       "      <td>0.017282</td>\n",
       "      <td>0.002147</td>\n",
       "    </tr>\n",
       "    <tr>\n",
       "      <th>Service, Gas Station</th>\n",
       "      <td>424</td>\n",
       "      <td>0.015624</td>\n",
       "      <td>0.001941</td>\n",
       "    </tr>\n",
       "    <tr>\n",
       "      <th>Drug Store, Doctors Office, Hospital</th>\n",
       "      <td>332</td>\n",
       "      <td>0.012234</td>\n",
       "      <td>0.001520</td>\n",
       "    </tr>\n",
       "  </tbody>\n",
       "</table>\n",
       "</div>"
      ],
      "text/plain": [
       "                                      Total   Percent   Overall\n",
       "Residence, Home (Includes Apartment)  16760  0.617584  0.076730\n",
       "Highway, Road, Street, Alley           2918  0.107525  0.013359\n",
       "Parking Lot, Garage                    2047  0.075429  0.009372\n",
       "Bar, Nightclub                          667  0.024578  0.003054\n",
       "Hotel, Motel, ETC                       663  0.024431  0.003035\n",
       "Other, Unknown                          551  0.020304  0.002523\n",
       "Restaurant                              537  0.019788  0.002458\n",
       "Convenience Store                       469  0.017282  0.002147\n",
       "Service, Gas Station                    424  0.015624  0.001941\n",
       "Drug Store, Doctors Office, Hospital    332  0.012234  0.001520"
      ]
     },
     "execution_count": 25,
     "metadata": {},
     "output_type": "execute_result"
    }
   ],
   "source": [
    "def count_per(data):\n",
    "    Total = df[df['Description']=='Simple assault']['Premise'].value_counts()[:10]\n",
    "    Percentage = df[df['Description']=='Simple assault']['Premise'].value_counts(normalize=True)[:10]\n",
    "    Overall = Total/df.shape[0]\n",
    "    \n",
    "    return pd.concat([Total,Percentage, Overall], axis=1, keys = ['Total', 'Percent', 'Overall'])\n",
    "count_per(df)"
   ]
  },
  {
   "cell_type": "code",
   "execution_count": 26,
   "metadata": {},
   "outputs": [],
   "source": [
    "## Compared with other locations, 8 times more likely to get assaulted in a residental area than a parking lot, garage.\n",
    "## Given an incident is Simple assault, 61% are more likely to happen in a residental area.\n",
    "##8 % overall"
   ]
  },
  {
   "cell_type": "code",
   "execution_count": 27,
   "metadata": {},
   "outputs": [
    {
     "data": {
      "text/html": [
       "<div>\n",
       "<style scoped>\n",
       "    .dataframe tbody tr th:only-of-type {\n",
       "        vertical-align: middle;\n",
       "    }\n",
       "\n",
       "    .dataframe tbody tr th {\n",
       "        vertical-align: top;\n",
       "    }\n",
       "\n",
       "    .dataframe thead th {\n",
       "        text-align: right;\n",
       "    }\n",
       "</style>\n",
       "<table border=\"1\" class=\"dataframe\">\n",
       "  <thead>\n",
       "    <tr style=\"text-align: right;\">\n",
       "      <th></th>\n",
       "      <th>Total</th>\n",
       "      <th>Percent</th>\n",
       "      <th>Overall</th>\n",
       "    </tr>\n",
       "  </thead>\n",
       "  <tbody>\n",
       "    <tr>\n",
       "      <th>Simple assault</th>\n",
       "      <td>16760</td>\n",
       "      <td>0.206557</td>\n",
       "      <td>0.076730</td>\n",
       "    </tr>\n",
       "    <tr>\n",
       "      <th>Burglary, Breaking and Entering</th>\n",
       "      <td>10563</td>\n",
       "      <td>0.130182</td>\n",
       "      <td>0.048359</td>\n",
       "    </tr>\n",
       "    <tr>\n",
       "      <th>Destruction, damage, vandalism</th>\n",
       "      <td>10009</td>\n",
       "      <td>0.123355</td>\n",
       "      <td>0.045823</td>\n",
       "    </tr>\n",
       "    <tr>\n",
       "      <th>Intimidation</th>\n",
       "      <td>8472</td>\n",
       "      <td>0.104412</td>\n",
       "      <td>0.038786</td>\n",
       "    </tr>\n",
       "    <tr>\n",
       "      <th>All other larceny</th>\n",
       "      <td>7265</td>\n",
       "      <td>0.089537</td>\n",
       "      <td>0.033260</td>\n",
       "    </tr>\n",
       "    <tr>\n",
       "      <th>Aggravated Assault</th>\n",
       "      <td>6856</td>\n",
       "      <td>0.084496</td>\n",
       "      <td>0.031388</td>\n",
       "    </tr>\n",
       "    <tr>\n",
       "      <th>Theft from motor vehicle</th>\n",
       "      <td>5573</td>\n",
       "      <td>0.068684</td>\n",
       "      <td>0.025514</td>\n",
       "    </tr>\n",
       "    <tr>\n",
       "      <th>Motor vehicle theft</th>\n",
       "      <td>2887</td>\n",
       "      <td>0.035580</td>\n",
       "      <td>0.013217</td>\n",
       "    </tr>\n",
       "    <tr>\n",
       "      <th>Robbery</th>\n",
       "      <td>1826</td>\n",
       "      <td>0.022504</td>\n",
       "      <td>0.008360</td>\n",
       "    </tr>\n",
       "    <tr>\n",
       "      <th>Theft of motor vehicle parts or accessory</th>\n",
       "      <td>1594</td>\n",
       "      <td>0.019645</td>\n",
       "      <td>0.007298</td>\n",
       "    </tr>\n",
       "  </tbody>\n",
       "</table>\n",
       "</div>"
      ],
      "text/plain": [
       "                                           Total   Percent   Overall\n",
       "Simple assault                             16760  0.206557  0.076730\n",
       "Burglary, Breaking and Entering            10563  0.130182  0.048359\n",
       "Destruction, damage, vandalism             10009  0.123355  0.045823\n",
       "Intimidation                                8472  0.104412  0.038786\n",
       "All other larceny                           7265  0.089537  0.033260\n",
       "Aggravated Assault                          6856  0.084496  0.031388\n",
       "Theft from motor vehicle                    5573  0.068684  0.025514\n",
       "Motor vehicle theft                         2887  0.035580  0.013217\n",
       "Robbery                                     1826  0.022504  0.008360\n",
       "Theft of motor vehicle parts or accessory   1594  0.019645  0.007298"
      ]
     },
     "execution_count": 27,
     "metadata": {},
     "output_type": "execute_result"
    }
   ],
   "source": [
    "def count_per(data):\n",
    "    Total = df[df['Premise']=='Residence, Home (Includes Apartment)']['Description'].value_counts()[:10]\n",
    "    Percentage = df[df['Premise']=='Residence, Home (Includes Apartment)']['Description'].value_counts(normalize=True)[:10]\n",
    "    Overall = Total/len(df)\n",
    "    \n",
    "    return pd.concat([Total,Percentage, Overall], axis=1, keys = ['Total', 'Percent', 'Overall'])\n",
    "count_per(df)"
   ]
  },
  {
   "cell_type": "code",
   "execution_count": 28,
   "metadata": {},
   "outputs": [],
   "source": [
    "##Given the location is a residental area, 21% are mor elikely to be simple assault.\n",
    "## 8% chance overall"
   ]
  },
  {
   "cell_type": "code",
   "execution_count": 29,
   "metadata": {},
   "outputs": [
    {
     "data": {
      "text/html": [
       "<div>\n",
       "<style scoped>\n",
       "    .dataframe tbody tr th:only-of-type {\n",
       "        vertical-align: middle;\n",
       "    }\n",
       "\n",
       "    .dataframe tbody tr th {\n",
       "        vertical-align: top;\n",
       "    }\n",
       "\n",
       "    .dataframe thead th {\n",
       "        text-align: right;\n",
       "    }\n",
       "</style>\n",
       "<table border=\"1\" class=\"dataframe\">\n",
       "  <thead>\n",
       "    <tr style=\"text-align: right;\">\n",
       "      <th></th>\n",
       "      <th>Total</th>\n",
       "      <th>Percent</th>\n",
       "      <th>Overall</th>\n",
       "    </tr>\n",
       "  </thead>\n",
       "  <tbody>\n",
       "    <tr>\n",
       "      <th>Theft from motor vehicle</th>\n",
       "      <td>17675</td>\n",
       "      <td>0.419445</td>\n",
       "      <td>0.080919</td>\n",
       "    </tr>\n",
       "    <tr>\n",
       "      <th>Motor vehicle theft</th>\n",
       "      <td>5966</td>\n",
       "      <td>0.141579</td>\n",
       "      <td>0.027313</td>\n",
       "    </tr>\n",
       "    <tr>\n",
       "      <th>Destruction, damage, vandalism</th>\n",
       "      <td>4832</td>\n",
       "      <td>0.114668</td>\n",
       "      <td>0.022122</td>\n",
       "    </tr>\n",
       "    <tr>\n",
       "      <th>Theft of motor vehicle parts or accessory</th>\n",
       "      <td>3016</td>\n",
       "      <td>0.071573</td>\n",
       "      <td>0.013808</td>\n",
       "    </tr>\n",
       "    <tr>\n",
       "      <th>Simple assault</th>\n",
       "      <td>2047</td>\n",
       "      <td>0.048577</td>\n",
       "      <td>0.009372</td>\n",
       "    </tr>\n",
       "    <tr>\n",
       "      <th>All other larceny</th>\n",
       "      <td>2006</td>\n",
       "      <td>0.047604</td>\n",
       "      <td>0.009184</td>\n",
       "    </tr>\n",
       "    <tr>\n",
       "      <th>Robbery</th>\n",
       "      <td>1989</td>\n",
       "      <td>0.047201</td>\n",
       "      <td>0.009106</td>\n",
       "    </tr>\n",
       "    <tr>\n",
       "      <th>Aggravated Assault</th>\n",
       "      <td>1301</td>\n",
       "      <td>0.030874</td>\n",
       "      <td>0.005956</td>\n",
       "    </tr>\n",
       "    <tr>\n",
       "      <th>Drug, narcotic violations</th>\n",
       "      <td>852</td>\n",
       "      <td>0.020219</td>\n",
       "      <td>0.003901</td>\n",
       "    </tr>\n",
       "    <tr>\n",
       "      <th>Intimidation</th>\n",
       "      <td>715</td>\n",
       "      <td>0.016968</td>\n",
       "      <td>0.003273</td>\n",
       "    </tr>\n",
       "  </tbody>\n",
       "</table>\n",
       "</div>"
      ],
      "text/plain": [
       "                                           Total   Percent   Overall\n",
       "Theft from motor vehicle                   17675  0.419445  0.080919\n",
       "Motor vehicle theft                         5966  0.141579  0.027313\n",
       "Destruction, damage, vandalism              4832  0.114668  0.022122\n",
       "Theft of motor vehicle parts or accessory   3016  0.071573  0.013808\n",
       "Simple assault                              2047  0.048577  0.009372\n",
       "All other larceny                           2006  0.047604  0.009184\n",
       "Robbery                                     1989  0.047201  0.009106\n",
       "Aggravated Assault                          1301  0.030874  0.005956\n",
       "Drug, narcotic violations                    852  0.020219  0.003901\n",
       "Intimidation                                 715  0.016968  0.003273"
      ]
     },
     "execution_count": 29,
     "metadata": {},
     "output_type": "execute_result"
    }
   ],
   "source": [
    "def count_per(data):\n",
    "    Total = df[df['Premise']=='Parking Lot, Garage']['Description'].value_counts()[:10]\n",
    "    Percentage = df[df['Premise']=='Parking Lot, Garage']['Description'].value_counts(normalize=True)[:10]\n",
    "    Overall = Total/len(df)\n",
    "    \n",
    "    return pd.concat([Total,Percentage, Overall], axis=1, keys = ['Total', 'Percent', 'Overall'])\n",
    "count_per(df)"
   ]
  },
  {
   "cell_type": "code",
   "execution_count": 30,
   "metadata": {},
   "outputs": [],
   "source": [
    "##Given the location is a Parking Lot or garage, there is a 42% chance of a Theft from motor vehicle\n",
    "## 8% chance overall"
   ]
  },
  {
   "cell_type": "markdown",
   "metadata": {},
   "source": [
    "# Seasonal Trends"
   ]
  },
  {
   "cell_type": "code",
   "execution_count": 24,
   "metadata": {},
   "outputs": [],
   "source": [
    "def seasons(df):\n",
    "  if (df['Month'] == 12) | (df['Month'] >=1) & (df['Month'] <=2):\n",
    "    return 'Winter'\n",
    "  elif (df['Month'] >=3) & (df['Month'] <=5):\n",
    "    return 'Spring'\n",
    "  elif (df['Month'] >=6) & (df['Month'] <=8):\n",
    "    return 'Summer'        \n",
    "  else:\n",
    "    return \"Fall\"\n",
    "df['Season'] = df.apply(seasons, axis=1)\n",
    "\n",
    "column_move6 = df['Season']\n",
    "df.drop(labels=['Season'], axis=1, inplace=True)\n",
    "df.insert(8,'Season', column_move6)"
   ]
  },
  {
   "cell_type": "code",
   "execution_count": 25,
   "metadata": {},
   "outputs": [
    {
     "data": {
      "text/html": [
       "<div>\n",
       "<style scoped>\n",
       "    .dataframe tbody tr th:only-of-type {\n",
       "        vertical-align: middle;\n",
       "    }\n",
       "\n",
       "    .dataframe tbody tr th {\n",
       "        vertical-align: top;\n",
       "    }\n",
       "\n",
       "    .dataframe thead th {\n",
       "        text-align: right;\n",
       "    }\n",
       "</style>\n",
       "<table border=\"1\" class=\"dataframe\">\n",
       "  <thead>\n",
       "    <tr style=\"text-align: right;\">\n",
       "      <th></th>\n",
       "      <th>Incident</th>\n",
       "      <th>Date</th>\n",
       "      <th>Month</th>\n",
       "      <th>Day</th>\n",
       "      <th>Day_of_Week</th>\n",
       "      <th>week_of_year</th>\n",
       "      <th>day_of_year</th>\n",
       "      <th>Hour</th>\n",
       "      <th>Season</th>\n",
       "      <th>NIBRS Class</th>\n",
       "      <th>Description</th>\n",
       "      <th>Offense Count</th>\n",
       "      <th>Beat</th>\n",
       "      <th>Premise</th>\n",
       "      <th>Block Range</th>\n",
       "      <th>StreetName</th>\n",
       "      <th>Street Type</th>\n",
       "      <th>Suffix</th>\n",
       "      <th>ZIP Code</th>\n",
       "    </tr>\n",
       "  </thead>\n",
       "  <tbody>\n",
       "    <tr>\n",
       "      <th>91386</th>\n",
       "      <td>72509619</td>\n",
       "      <td>2019-06-07</td>\n",
       "      <td>6</td>\n",
       "      <td>7</td>\n",
       "      <td>Friday</td>\n",
       "      <td>23</td>\n",
       "      <td>158</td>\n",
       "      <td>12</td>\n",
       "      <td>Summer</td>\n",
       "      <td>290</td>\n",
       "      <td>Destruction, damage, vandalism</td>\n",
       "      <td>1</td>\n",
       "      <td>3B10</td>\n",
       "      <td>Grocery, Supermarket</td>\n",
       "      <td>12009</td>\n",
       "      <td>NORTHWEST</td>\n",
       "      <td>FWY</td>\n",
       "      <td>NaN</td>\n",
       "      <td>77092</td>\n",
       "    </tr>\n",
       "  </tbody>\n",
       "</table>\n",
       "</div>"
      ],
      "text/plain": [
       "       Incident       Date  Month  Day Day_of_Week  week_of_year  day_of_year  \\\n",
       "91386  72509619 2019-06-07      6    7      Friday            23          158   \n",
       "\n",
       "       Hour  Season NIBRS Class                     Description  \\\n",
       "91386    12  Summer         290  Destruction, damage, vandalism   \n",
       "\n",
       "       Offense Count  Beat               Premise  Block Range StreetName  \\\n",
       "91386              1  3B10  Grocery, Supermarket        12009  NORTHWEST   \n",
       "\n",
       "      Street Type Suffix ZIP Code  \n",
       "91386         FWY    NaN    77092  "
      ]
     },
     "execution_count": 25,
     "metadata": {},
     "output_type": "execute_result"
    }
   ],
   "source": [
    "df.sample(1)"
   ]
  },
  {
   "cell_type": "code",
   "execution_count": 26,
   "metadata": {},
   "outputs": [
    {
     "data": {
      "text/html": [
       "<div>\n",
       "<style scoped>\n",
       "    .dataframe tbody tr th:only-of-type {\n",
       "        vertical-align: middle;\n",
       "    }\n",
       "\n",
       "    .dataframe tbody tr th {\n",
       "        vertical-align: top;\n",
       "    }\n",
       "\n",
       "    .dataframe thead th {\n",
       "        text-align: right;\n",
       "    }\n",
       "</style>\n",
       "<table border=\"1\" class=\"dataframe\">\n",
       "  <thead>\n",
       "    <tr style=\"text-align: right;\">\n",
       "      <th></th>\n",
       "      <th>Season</th>\n",
       "      <th>count</th>\n",
       "    </tr>\n",
       "  </thead>\n",
       "  <tbody>\n",
       "    <tr>\n",
       "      <th>0</th>\n",
       "      <td>Winter</td>\n",
       "      <td>51129</td>\n",
       "    </tr>\n",
       "    <tr>\n",
       "      <th>1</th>\n",
       "      <td>Spring</td>\n",
       "      <td>54994</td>\n",
       "    </tr>\n",
       "    <tr>\n",
       "      <th>2</th>\n",
       "      <td>Summer</td>\n",
       "      <td>57112</td>\n",
       "    </tr>\n",
       "    <tr>\n",
       "      <th>3</th>\n",
       "      <td>Fall</td>\n",
       "      <td>55193</td>\n",
       "    </tr>\n",
       "  </tbody>\n",
       "</table>\n",
       "</div>"
      ],
      "text/plain": [
       "   Season  count\n",
       "0  Winter  51129\n",
       "1  Spring  54994\n",
       "2  Summer  57112\n",
       "3    Fall  55193"
      ]
     },
     "execution_count": 26,
     "metadata": {},
     "output_type": "execute_result"
    }
   ],
   "source": [
    "cats = ['Winter', 'Spring', 'Summer', 'Fall']\n",
    "s_count = df.groupby(['Season'])['Incident'].agg(['count']).sort_values(by='Season').reindex(cats).reset_index()\n",
    "s_count"
   ]
  },
  {
   "cell_type": "code",
   "execution_count": 27,
   "metadata": {},
   "outputs": [],
   "source": [
    "s_mean = df['Season'].value_counts().mean()"
   ]
  },
  {
   "cell_type": "code",
   "execution_count": 28,
   "metadata": {},
   "outputs": [
    {
     "name": "stdout",
     "output_type": "stream",
     "text": [
      "54607.0\n"
     ]
    }
   ],
   "source": [
    "print(s_mean)"
   ]
  },
  {
   "cell_type": "code",
   "execution_count": 29,
   "metadata": {},
   "outputs": [
    {
     "data": {
      "image/png": "[encoded data removed]",
      "text/plain": [
       "<Figure size 864x576 with 1 Axes>"
      ]
     },
     "metadata": {
      "needs_background": "light"
     },
     "output_type": "display_data"
    }
   ],
   "source": [
    "plt.figure(figsize=(12,8))\n",
    "c = ['#ffa600', '#ff7c43', '#f95d6a', '#d45087', '#a05195', '#665191', '#2f4b7c']\n",
    "ax = sns.barplot(x='Season', y='count', data= s_count, alpha=0.8, palette=c)\n",
    "for p in ax.patches:\n",
    "        ax.annotate('{:.0f}'.format(p.get_height()), (p.get_x()+0.4, p.get_height()),\n",
    "                    ha='center', va='bottom', fontsize =12,\n",
    "                    color= 'black', weight=\"bold\")     \n",
    "        \n",
    "y_line_annotation = s_mean\n",
    "ax.axhline(y=y_line_annotation, linestyle='dashed', color='#003f5c')\n",
    "ax.text(3.6, 54607, 'Mean of Seasons', fontsize='16', va='center')\n",
    "\n",
    "\n",
    "plt.title('Reports by Season')\n",
    "plt.ylabel('Number of Occurrences', fontsize=12)\n",
    "plt.xlabel('Season', fontsize=12, labelpad=12)\n",
    "plt.xticks(rotation=0)\n",
    "plt.show()"
   ]
  },
  {
   "cell_type": "code",
   "execution_count": 30,
   "metadata": {},
   "outputs": [
    {
     "data": {
      "image/png": "[encoded data removed]",
      "text/plain": [
       "<Figure size 576x576 with 1 Axes>"
      ]
     },
     "metadata": {},
     "output_type": "display_data"
    }
   ],
   "source": [
    "seasons_count = df['Season'].value_counts()\n",
    "colors = ['gold','lightsalmon','skyblue','pink']\n",
    "explode = (0.1, 0, 0, 0)\n",
    "seasons_count.plot(kind = 'pie', title='Seasons', explode= explode, subplots=True,\n",
    "                       autopct='%1.1f%%',shadow=True,figsize=(8,8), fontsize= 12, colors= colors)\n",
    "plt.axis('equal')\n",
    "plt.tight_layout()\n",
    "plt.show()"
   ]
  },
  {
   "cell_type": "code",
   "execution_count": 31,
   "metadata": {},
   "outputs": [],
   "source": [
    "## Although not a huge difference, summer has the highest report incidents\n",
    "## The difference between the summer and winter is only 3%"
   ]
  },
  {
   "cell_type": "code",
   "execution_count": 32,
   "metadata": {},
   "outputs": [
    {
     "name": "stdout",
     "output_type": "stream",
     "text": [
      "Winter\n",
      "Theft from motor vehicle           7717\n",
      "Simple assault                     6211\n",
      "Destruction, damage, vandalism     5011\n",
      "All other larceny                  4525\n",
      "Burglary, Breaking and Entering    3965\n",
      "Name: Description, dtype: int64\n",
      "\n",
      "\n",
      "Spring\n",
      "Theft from motor vehicle           8151\n",
      "Simple assault                     7224\n",
      "Destruction, damage, vandalism     5619\n",
      "All other larceny                  4742\n",
      "Burglary, Breaking and Entering    4184\n",
      "Name: Description, dtype: int64\n",
      "\n",
      "\n",
      "Summer\n",
      "Theft from motor vehicle           8778\n",
      "Simple assault                     7180\n",
      "Destruction, damage, vandalism     5718\n",
      "All other larceny                  4837\n",
      "Burglary, Breaking and Entering    4416\n",
      "Name: Description, dtype: int64\n",
      "\n",
      "\n",
      "Fall\n",
      "Theft from motor vehicle           8416\n",
      "Simple assault                     6523\n",
      "Destruction, damage, vandalism     5269\n",
      "All other larceny                  4336\n",
      "Burglary, Breaking and Entering    4314\n",
      "Name: Description, dtype: int64\n",
      "\n",
      "\n"
     ]
    }
   ],
   "source": [
    "seasons = ['Winter', 'Spring', 'Summer', 'Fall'] \n",
    "for s in seasons:\n",
    "    print(s.capitalize())\n",
    "    all_s = df[df['Season']==s]['Description'].value_counts()[:5]\n",
    "    print(all_s)\n",
    "    print('\\n')"
   ]
  },
  {
   "cell_type": "code",
   "execution_count": 33,
   "metadata": {},
   "outputs": [],
   "source": [
    "fall = df[df['Season']=='Fall']['Description'].value_counts().to_frame()[:5]\n",
    "spring = df[df['Season']=='Spring']['Description'].value_counts().to_frame()[:5]\n",
    "summer = df[df['Season']=='Summer']['Description'].value_counts().to_frame()[:5]\n",
    "winter = df[df['Season']=='Winter']['Description'].value_counts().to_frame()[:5]"
   ]
  },
  {
   "cell_type": "code",
   "execution_count": 34,
   "metadata": {},
   "outputs": [
    {
     "data": {
      "text/html": [
       "<div>\n",
       "<style scoped>\n",
       "    .dataframe tbody tr th:only-of-type {\n",
       "        vertical-align: middle;\n",
       "    }\n",
       "\n",
       "    .dataframe tbody tr th {\n",
       "        vertical-align: top;\n",
       "    }\n",
       "\n",
       "    .dataframe thead th {\n",
       "        text-align: right;\n",
       "    }\n",
       "</style>\n",
       "<table border=\"1\" class=\"dataframe\">\n",
       "  <thead>\n",
       "    <tr style=\"text-align: right;\">\n",
       "      <th></th>\n",
       "      <th>Description_x</th>\n",
       "      <th>Description_y</th>\n",
       "    </tr>\n",
       "  </thead>\n",
       "  <tbody>\n",
       "    <tr>\n",
       "      <th>Theft from motor vehicle</th>\n",
       "      <td>8416</td>\n",
       "      <td>8151</td>\n",
       "    </tr>\n",
       "    <tr>\n",
       "      <th>Simple assault</th>\n",
       "      <td>6523</td>\n",
       "      <td>7224</td>\n",
       "    </tr>\n",
       "    <tr>\n",
       "      <th>Destruction, damage, vandalism</th>\n",
       "      <td>5269</td>\n",
       "      <td>5619</td>\n",
       "    </tr>\n",
       "    <tr>\n",
       "      <th>All other larceny</th>\n",
       "      <td>4336</td>\n",
       "      <td>4742</td>\n",
       "    </tr>\n",
       "    <tr>\n",
       "      <th>Burglary, Breaking and Entering</th>\n",
       "      <td>4314</td>\n",
       "      <td>4184</td>\n",
       "    </tr>\n",
       "  </tbody>\n",
       "</table>\n",
       "</div>"
      ],
      "text/plain": [
       "                                 Description_x  Description_y\n",
       "Theft from motor vehicle                  8416           8151\n",
       "Simple assault                            6523           7224\n",
       "Destruction, damage, vandalism            5269           5619\n",
       "All other larceny                         4336           4742\n",
       "Burglary, Breaking and Entering           4314           4184"
      ]
     },
     "execution_count": 34,
     "metadata": {},
     "output_type": "execute_result"
    }
   ],
   "source": [
    "fs = pd.merge(fall, spring, left_index=True, right_index=True)\n",
    "fs"
   ]
  },
  {
   "cell_type": "code",
   "execution_count": 35,
   "metadata": {},
   "outputs": [
    {
     "data": {
      "text/html": [
       "<div>\n",
       "<style scoped>\n",
       "    .dataframe tbody tr th:only-of-type {\n",
       "        vertical-align: middle;\n",
       "    }\n",
       "\n",
       "    .dataframe tbody tr th {\n",
       "        vertical-align: top;\n",
       "    }\n",
       "\n",
       "    .dataframe thead th {\n",
       "        text-align: right;\n",
       "    }\n",
       "</style>\n",
       "<table border=\"1\" class=\"dataframe\">\n",
       "  <thead>\n",
       "    <tr style=\"text-align: right;\">\n",
       "      <th></th>\n",
       "      <th>Description_x</th>\n",
       "      <th>Description_y</th>\n",
       "    </tr>\n",
       "  </thead>\n",
       "  <tbody>\n",
       "    <tr>\n",
       "      <th>Theft from motor vehicle</th>\n",
       "      <td>8778</td>\n",
       "      <td>7717</td>\n",
       "    </tr>\n",
       "    <tr>\n",
       "      <th>Simple assault</th>\n",
       "      <td>7180</td>\n",
       "      <td>6211</td>\n",
       "    </tr>\n",
       "    <tr>\n",
       "      <th>Destruction, damage, vandalism</th>\n",
       "      <td>5718</td>\n",
       "      <td>5011</td>\n",
       "    </tr>\n",
       "    <tr>\n",
       "      <th>All other larceny</th>\n",
       "      <td>4837</td>\n",
       "      <td>4525</td>\n",
       "    </tr>\n",
       "    <tr>\n",
       "      <th>Burglary, Breaking and Entering</th>\n",
       "      <td>4416</td>\n",
       "      <td>3965</td>\n",
       "    </tr>\n",
       "  </tbody>\n",
       "</table>\n",
       "</div>"
      ],
      "text/plain": [
       "                                 Description_x  Description_y\n",
       "Theft from motor vehicle                  8778           7717\n",
       "Simple assault                            7180           6211\n",
       "Destruction, damage, vandalism            5718           5011\n",
       "All other larceny                         4837           4525\n",
       "Burglary, Breaking and Entering           4416           3965"
      ]
     },
     "execution_count": 35,
     "metadata": {},
     "output_type": "execute_result"
    }
   ],
   "source": [
    "sw = pd.merge(summer, winter, left_index=True, right_index=True)\n",
    "sw"
   ]
  },
  {
   "cell_type": "code",
   "execution_count": 36,
   "metadata": {},
   "outputs": [
    {
     "data": {
      "text/html": [
       "<div>\n",
       "<style scoped>\n",
       "    .dataframe tbody tr th:only-of-type {\n",
       "        vertical-align: middle;\n",
       "    }\n",
       "\n",
       "    .dataframe tbody tr th {\n",
       "        vertical-align: top;\n",
       "    }\n",
       "\n",
       "    .dataframe thead th {\n",
       "        text-align: right;\n",
       "    }\n",
       "</style>\n",
       "<table border=\"1\" class=\"dataframe\">\n",
       "  <thead>\n",
       "    <tr style=\"text-align: right;\">\n",
       "      <th></th>\n",
       "      <th>Theft from motor vehicle</th>\n",
       "      <th>Simple assault</th>\n",
       "      <th>Destruction, damage, vandalism</th>\n",
       "      <th>All other larceny</th>\n",
       "      <th>Burglary, Breaking and Entering</th>\n",
       "    </tr>\n",
       "  </thead>\n",
       "  <tbody>\n",
       "    <tr>\n",
       "      <th>Fall</th>\n",
       "      <td>8416</td>\n",
       "      <td>6523</td>\n",
       "      <td>5269</td>\n",
       "      <td>4336</td>\n",
       "      <td>4314</td>\n",
       "    </tr>\n",
       "    <tr>\n",
       "      <th>Spring</th>\n",
       "      <td>8151</td>\n",
       "      <td>7224</td>\n",
       "      <td>5619</td>\n",
       "      <td>4742</td>\n",
       "      <td>4184</td>\n",
       "    </tr>\n",
       "    <tr>\n",
       "      <th>Summer</th>\n",
       "      <td>8778</td>\n",
       "      <td>7180</td>\n",
       "      <td>5718</td>\n",
       "      <td>4837</td>\n",
       "      <td>4416</td>\n",
       "    </tr>\n",
       "    <tr>\n",
       "      <th>Winter</th>\n",
       "      <td>7717</td>\n",
       "      <td>6211</td>\n",
       "      <td>5011</td>\n",
       "      <td>4525</td>\n",
       "      <td>3965</td>\n",
       "    </tr>\n",
       "  </tbody>\n",
       "</table>\n",
       "</div>"
      ],
      "text/plain": [
       "        Theft from motor vehicle  Simple assault  \\\n",
       "Fall                        8416            6523   \n",
       "Spring                      8151            7224   \n",
       "Summer                      8778            7180   \n",
       "Winter                      7717            6211   \n",
       "\n",
       "        Destruction, damage, vandalism  All other larceny  \\\n",
       "Fall                              5269               4336   \n",
       "Spring                            5619               4742   \n",
       "Summer                            5718               4837   \n",
       "Winter                            5011               4525   \n",
       "\n",
       "        Burglary, Breaking and Entering  \n",
       "Fall                               4314  \n",
       "Spring                             4184  \n",
       "Summer                             4416  \n",
       "Winter                             3965  "
      ]
     },
     "execution_count": 36,
     "metadata": {},
     "output_type": "execute_result"
    }
   ],
   "source": [
    "fs.rename(columns={'Description_x':'Fall','Description_y':'Spring'}, inplace=True)\n",
    "sw.rename(columns={'Description_x':'Summer','Description_y':'Winter'}, inplace=True)\n",
    "all_seasons = pd.merge(fs, sw, left_index=True, right_index=True).T\n",
    "all_seasons\n"
   ]
  },
  {
   "cell_type": "code",
   "execution_count": 37,
   "metadata": {},
   "outputs": [
    {
     "data": {
      "text/plain": [
       "['Theft from motor vehicle',\n",
       " 'Simple assault',\n",
       " 'Destruction, damage, vandalism',\n",
       " 'All other larceny',\n",
       " 'Burglary, Breaking and Entering']"
      ]
     },
     "execution_count": 37,
     "metadata": {},
     "output_type": "execute_result"
    }
   ],
   "source": [
    "i = [x for x in all_seasons.columns]\n",
    "i"
   ]
  },
  {
   "cell_type": "code",
   "execution_count": 38,
   "metadata": {},
   "outputs": [
    {
     "name": "stdout",
     "output_type": "stream",
     "text": [
      "Theft from motor vehicle with MAX in Summer and MIN in Winter\n",
      "13.74886613969159\n",
      "\n",
      "\n",
      "Simple assault with MAX in Spring and MIN in Winter\n",
      "16.30977298341652\n",
      "\n",
      "\n",
      "Destruction, damage, vandalism with MAX in Summer and MIN in Winter\n",
      "14.108960287367792\n",
      "\n",
      "\n",
      "All other larceny with MAX in Summer and MIN in Fall\n",
      "11.554428044280444\n",
      "\n",
      "\n",
      "Burglary, Breaking and Entering with MAX in Summer and MIN in Winter\n",
      "11.37452711223203\n",
      "\n",
      "\n"
     ]
    }
   ],
   "source": [
    "for x in i:\n",
    "    print(x + ' with MAX in ' + all_seasons[x].idxmax() + ' and MIN in ' +  all_seasons[x].idxmin())\n",
    "    season_difference = (all_seasons[x].max() - all_seasons[x].min())/ all_seasons[x].min() * 100\n",
    "    print(season_difference)\n",
    "    print('\\n')"
   ]
  },
  {
   "cell_type": "code",
   "execution_count": 39,
   "metadata": {},
   "outputs": [],
   "source": [
    "## The same top 5 incidents occur every season.\n",
    "## Simple Assault has the largest increase of incidents from the min(Winter) and max(Summer) of 16%"
   ]
  },
  {
   "cell_type": "code",
   "execution_count": 40,
   "metadata": {
    "scrolled": false
   },
   "outputs": [
    {
     "name": "stdout",
     "output_type": "stream",
     "text": [
      "AxesSubplot(0.125,0.125;0.775x0.755)\n",
      "AxesSubplot(0.125,0.125;0.775x0.755)\n",
      "AxesSubplot(0.125,0.125;0.775x0.755)\n",
      "AxesSubplot(0.125,0.125;0.775x0.755)\n"
     ]
    },
    {
     "data": {
      "image/png": "[encoded data removed]",
      "text/plain": [
       "<Figure size 1440x576 with 1 Axes>"
      ]
     },
     "metadata": {
      "needs_background": "light"
     },
     "output_type": "display_data"
    }
   ],
   "source": [
    "seasons = ['Winter', 'Spring', 'Summer', 'Fall'] \n",
    "for s in seasons:\n",
    "    s_plot = df[df['Season']==s]['Description'].value_counts()[:5].plot(figsize=(20,8))\n",
    "    plt.legend(seasons)\n",
    "    print(s_plot)"
   ]
  },
  {
   "cell_type": "code",
   "execution_count": 78,
   "metadata": {},
   "outputs": [],
   "source": [
    "##Summer may have more incidents occuring, however Spring has more Simple assault incidents occuring."
   ]
  },
  {
   "cell_type": "markdown",
   "metadata": {},
   "source": [
    "# Are incidents more likely to occur on weekdays or weekend?"
   ]
  },
  {
   "cell_type": "code",
   "execution_count": 41,
   "metadata": {},
   "outputs": [],
   "source": [
    "df['Type_of_Day']=['Weekend' if x == \"Saturday\" or x =='Sunday' or x=='Friday' and y >=16 else 'Weekday' for (x,y) in zip(df['Day_of_Week'],df['Hour'])]"
   ]
  },
  {
   "cell_type": "code",
   "execution_count": 42,
   "metadata": {},
   "outputs": [
    {
     "data": {
      "text/plain": [
       "Weekday    142784\n",
       "Weekend     75644\n",
       "Name: Type_of_Day, dtype: int64"
      ]
     },
     "execution_count": 42,
     "metadata": {},
     "output_type": "execute_result"
    }
   ],
   "source": [
    "df['Type_of_Day'].value_counts()"
   ]
  },
  {
   "cell_type": "code",
   "execution_count": 43,
   "metadata": {},
   "outputs": [
    {
     "name": "stdout",
     "output_type": "stream",
     "text": [
      "28556.8\n",
      "25214.666666666668\n"
     ]
    }
   ],
   "source": [
    "print(df[df['Type_of_Day']=='Weekday']['Day_of_Week'].value_counts().mean())\n",
    "print(df[df['Type_of_Day']=='Weekend']['Day_of_Week'].value_counts().mean())"
   ]
  },
  {
   "cell_type": "code",
   "execution_count": 90,
   "metadata": {},
   "outputs": [
    {
     "data": {
      "text/html": [
       "<div>\n",
       "<style scoped>\n",
       "    .dataframe tbody tr th:only-of-type {\n",
       "        vertical-align: middle;\n",
       "    }\n",
       "\n",
       "    .dataframe tbody tr th {\n",
       "        vertical-align: top;\n",
       "    }\n",
       "\n",
       "    .dataframe thead th {\n",
       "        text-align: right;\n",
       "    }\n",
       "</style>\n",
       "<table border=\"1\" class=\"dataframe\">\n",
       "  <thead>\n",
       "    <tr style=\"text-align: right;\">\n",
       "      <th></th>\n",
       "      <th>Day_of_Week</th>\n",
       "      <th>count</th>\n",
       "    </tr>\n",
       "  </thead>\n",
       "  <tbody>\n",
       "    <tr>\n",
       "      <th>0</th>\n",
       "      <td>Sunday</td>\n",
       "      <td>29445</td>\n",
       "    </tr>\n",
       "    <tr>\n",
       "      <th>1</th>\n",
       "      <td>Monday</td>\n",
       "      <td>31425</td>\n",
       "    </tr>\n",
       "    <tr>\n",
       "      <th>2</th>\n",
       "      <td>Tuesday</td>\n",
       "      <td>31298</td>\n",
       "    </tr>\n",
       "    <tr>\n",
       "      <th>3</th>\n",
       "      <td>Wednesday</td>\n",
       "      <td>31237</td>\n",
       "    </tr>\n",
       "    <tr>\n",
       "      <th>4</th>\n",
       "      <td>Thursday</td>\n",
       "      <td>30635</td>\n",
       "    </tr>\n",
       "    <tr>\n",
       "      <th>5</th>\n",
       "      <td>Friday</td>\n",
       "      <td>32788</td>\n",
       "    </tr>\n",
       "    <tr>\n",
       "      <th>6</th>\n",
       "      <td>Saturday</td>\n",
       "      <td>31600</td>\n",
       "    </tr>\n",
       "  </tbody>\n",
       "</table>\n",
       "</div>"
      ],
      "text/plain": [
       "  Day_of_Week  count\n",
       "0      Sunday  29445\n",
       "1      Monday  31425\n",
       "2     Tuesday  31298\n",
       "3   Wednesday  31237\n",
       "4    Thursday  30635\n",
       "5      Friday  32788\n",
       "6    Saturday  31600"
      ]
     },
     "execution_count": 90,
     "metadata": {},
     "output_type": "execute_result"
    }
   ],
   "source": [
    "cats = ['Sunday', 'Monday', 'Tuesday', 'Wednesday', 'Thursday', 'Friday', 'Saturday']\n",
    "d_count = df.groupby(['Day_of_Week'])['Incident'].agg(['count']).sort_values(by='Day_of_Week').reindex(cats).reset_index()\n",
    "d_count"
   ]
  },
  {
   "cell_type": "code",
   "execution_count": 99,
   "metadata": {},
   "outputs": [
    {
     "data": {
      "text/plain": [
       "28556.8"
      ]
     },
     "execution_count": 99,
     "metadata": {},
     "output_type": "execute_result"
    }
   ],
   "source": [
    "weekday_mean = df[df['Type_of_Day']=='Weekday']['Day_of_Week'].value_counts().mean()\n",
    "weekday_mean"
   ]
  },
  {
   "cell_type": "code",
   "execution_count": 100,
   "metadata": {},
   "outputs": [
    {
     "data": {
      "text/plain": [
       "25214.666666666668"
      ]
     },
     "execution_count": 100,
     "metadata": {},
     "output_type": "execute_result"
    }
   ],
   "source": [
    "weekend_mean = df[df['Type_of_Day']=='Weekend']['Day_of_Week'].value_counts().mean()\n",
    "weekend_mean"
   ]
  },
  {
   "cell_type": "code",
   "execution_count": 47,
   "metadata": {},
   "outputs": [
    {
     "data": {
      "image/png": "[encoded data removed]",
      "text/plain": [
       "<Figure size 864x576 with 1 Axes>"
      ]
     },
     "metadata": {
      "needs_background": "light"
     },
     "output_type": "display_data"
    }
   ],
   "source": [
    "plt.figure(figsize=(12,8))\n",
    "c = ['#ffa600', '#ff7c43', '#f95d6a', '#d45087', '#a05195', '#665191', '#2f4b7c']\n",
    "ax = sns.barplot(x='Day_of_Week', y='count', data= d_count, alpha=0.8, palette=c)\n",
    "for p in ax.patches:\n",
    "        ax.annotate('{:.0f}'.format(p.get_height()), (p.get_x()+0.4, p.get_height()),\n",
    "                    ha='center', va='bottom', fontsize =12,\n",
    "                    color= 'black', weight=\"bold\")     \n",
    "        \n",
    "y_line_annotation = weekday_mean\n",
    "y_text_annotation =  weekday_mean + 250\n",
    "ax.axhline(y=y_line_annotation, linestyle='dashed',color='#003f5c')\n",
    "ax.text(y=y_text_annotation, x = 3, ha='center', s='Weekday Mean', color='#003f5c', fontsize=16, weight=\"bold\")\n",
    "\n",
    "\n",
    "y_line_annotation = weekend_mean\n",
    "y_text_annotation = weekend_mean + 250\n",
    "ax.axhline(y=y_line_annotation, linestyle='dashed', color='#003f5c')\n",
    "ax.text(y=y_text_annotation, x = 3, ha='center', s='Weekend Mean', color='#003f5c', fontsize=16, weight=\"bold\")\n",
    "\n",
    "plt.title('Reports by Day of Week')\n",
    "plt.ylabel('Number of Occurrences', fontsize=12)\n",
    "plt.xlabel('Day of Week', fontsize=12, labelpad=12)\n",
    "plt.xticks(rotation=0)\n",
    "plt.show()"
   ]
  },
  {
   "cell_type": "code",
   "execution_count": 102,
   "metadata": {},
   "outputs": [
    {
     "data": {
      "text/plain": [
       "3342.1333333333314"
      ]
     },
     "execution_count": 102,
     "metadata": {},
     "output_type": "execute_result"
    }
   ],
   "source": [
    "weekday_mean - weekend_mean"
   ]
  },
  {
   "cell_type": "code",
   "execution_count": null,
   "metadata": {},
   "outputs": [],
   "source": [
    "##According to the graph, on a weekday there is an average of over 28556 incidents reported.\n",
    "##3342 lower than the average of over 25215 on weekends."
   ]
  },
  {
   "cell_type": "code",
   "execution_count": 91,
   "metadata": {
    "collapsed": true
   },
   "outputs": [
    {
     "data": {
      "text/plain": [
       "[566.25,\n",
       " 604.3269230769231,\n",
       " 590.5283018867924,\n",
       " 600.7115384615385,\n",
       " 589.1346153846154,\n",
       " 630.5384615384615,\n",
       " 607.6923076923077]"
      ]
     },
     "execution_count": 91,
     "metadata": {},
     "output_type": "execute_result"
    }
   ],
   "source": [
    "cats = ['Sunday', 'Monday', 'Tuesday', 'Wednesday', 'Thursday', 'Friday', 'Saturday']\n",
    "days = [df[df['Day_of_Week']==c]['Date'].value_counts().mean() for c in cats]\n",
    "days"
   ]
  },
  {
   "cell_type": "code",
   "execution_count": 92,
   "metadata": {
    "collapsed": true
   },
   "outputs": [
    {
     "data": {
      "text/html": [
       "<div>\n",
       "<style scoped>\n",
       "    .dataframe tbody tr th:only-of-type {\n",
       "        vertical-align: middle;\n",
       "    }\n",
       "\n",
       "    .dataframe tbody tr th {\n",
       "        vertical-align: top;\n",
       "    }\n",
       "\n",
       "    .dataframe thead th {\n",
       "        text-align: right;\n",
       "    }\n",
       "</style>\n",
       "<table border=\"1\" class=\"dataframe\">\n",
       "  <thead>\n",
       "    <tr style=\"text-align: right;\">\n",
       "      <th></th>\n",
       "      <th>Day_of_Week</th>\n",
       "      <th>count</th>\n",
       "      <th>mean</th>\n",
       "    </tr>\n",
       "  </thead>\n",
       "  <tbody>\n",
       "    <tr>\n",
       "      <th>0</th>\n",
       "      <td>Sunday</td>\n",
       "      <td>29445</td>\n",
       "      <td>566.250000</td>\n",
       "    </tr>\n",
       "    <tr>\n",
       "      <th>1</th>\n",
       "      <td>Monday</td>\n",
       "      <td>31425</td>\n",
       "      <td>604.326923</td>\n",
       "    </tr>\n",
       "    <tr>\n",
       "      <th>2</th>\n",
       "      <td>Tuesday</td>\n",
       "      <td>31298</td>\n",
       "      <td>590.528302</td>\n",
       "    </tr>\n",
       "    <tr>\n",
       "      <th>3</th>\n",
       "      <td>Wednesday</td>\n",
       "      <td>31237</td>\n",
       "      <td>600.711538</td>\n",
       "    </tr>\n",
       "    <tr>\n",
       "      <th>4</th>\n",
       "      <td>Thursday</td>\n",
       "      <td>30635</td>\n",
       "      <td>589.134615</td>\n",
       "    </tr>\n",
       "    <tr>\n",
       "      <th>5</th>\n",
       "      <td>Friday</td>\n",
       "      <td>32788</td>\n",
       "      <td>630.538462</td>\n",
       "    </tr>\n",
       "    <tr>\n",
       "      <th>6</th>\n",
       "      <td>Saturday</td>\n",
       "      <td>31600</td>\n",
       "      <td>607.692308</td>\n",
       "    </tr>\n",
       "  </tbody>\n",
       "</table>\n",
       "</div>"
      ],
      "text/plain": [
       "  Day_of_Week  count        mean\n",
       "0      Sunday  29445  566.250000\n",
       "1      Monday  31425  604.326923\n",
       "2     Tuesday  31298  590.528302\n",
       "3   Wednesday  31237  600.711538\n",
       "4    Thursday  30635  589.134615\n",
       "5      Friday  32788  630.538462\n",
       "6    Saturday  31600  607.692308"
      ]
     },
     "execution_count": 92,
     "metadata": {},
     "output_type": "execute_result"
    }
   ],
   "source": [
    "d_count = d_count.assign(days=days)\n",
    "d_count.rename(columns={'days':'mean'}, inplace=True)\n",
    "d_count"
   ]
  },
  {
   "cell_type": "code",
   "execution_count": 87,
   "metadata": {
    "collapsed": true
   },
   "outputs": [
    {
     "data": {
      "text/html": [
       "<div>\n",
       "<style scoped>\n",
       "    .dataframe tbody tr th:only-of-type {\n",
       "        vertical-align: middle;\n",
       "    }\n",
       "\n",
       "    .dataframe tbody tr th {\n",
       "        vertical-align: top;\n",
       "    }\n",
       "\n",
       "    .dataframe thead th {\n",
       "        text-align: right;\n",
       "    }\n",
       "</style>\n",
       "<table border=\"1\" class=\"dataframe\">\n",
       "  <thead>\n",
       "    <tr style=\"text-align: right;\">\n",
       "      <th>col_0</th>\n",
       "      <th>percentage</th>\n",
       "    </tr>\n",
       "    <tr>\n",
       "      <th>Day_of_Week</th>\n",
       "      <th></th>\n",
       "    </tr>\n",
       "  </thead>\n",
       "  <tbody>\n",
       "    <tr>\n",
       "      <th>Sunday</th>\n",
       "      <td>0.134804</td>\n",
       "    </tr>\n",
       "    <tr>\n",
       "      <th>Monday</th>\n",
       "      <td>0.143869</td>\n",
       "    </tr>\n",
       "    <tr>\n",
       "      <th>Tuesday</th>\n",
       "      <td>0.143287</td>\n",
       "    </tr>\n",
       "    <tr>\n",
       "      <th>Wednesday</th>\n",
       "      <td>0.143008</td>\n",
       "    </tr>\n",
       "    <tr>\n",
       "      <th>Thursday</th>\n",
       "      <td>0.140252</td>\n",
       "    </tr>\n",
       "    <tr>\n",
       "      <th>Friday</th>\n",
       "      <td>0.150109</td>\n",
       "    </tr>\n",
       "    <tr>\n",
       "      <th>Saturday</th>\n",
       "      <td>0.144670</td>\n",
       "    </tr>\n",
       "  </tbody>\n",
       "</table>\n",
       "</div>"
      ],
      "text/plain": [
       "col_0        percentage\n",
       "Day_of_Week            \n",
       "Sunday         0.134804\n",
       "Monday         0.143869\n",
       "Tuesday        0.143287\n",
       "Wednesday      0.143008\n",
       "Thursday       0.140252\n",
       "Friday         0.150109\n",
       "Saturday       0.144670"
      ]
     },
     "execution_count": 87,
     "metadata": {},
     "output_type": "execute_result"
    }
   ],
   "source": [
    "cats = ['Sunday', 'Monday', 'Tuesday', 'Wednesday', 'Thursday', 'Friday', 'Saturday']\n",
    "df2 = pd.DataFrame(pd.crosstab(index=df['Day_of_Week'], columns='percentage', normalize=True, dropna=True).sort_values(by='Day_of_Week').reindex(cats))\n",
    "df2"
   ]
  },
  {
   "cell_type": "code",
   "execution_count": 98,
   "metadata": {},
   "outputs": [
    {
     "data": {
      "text/html": [
       "<div>\n",
       "<style scoped>\n",
       "    .dataframe tbody tr th:only-of-type {\n",
       "        vertical-align: middle;\n",
       "    }\n",
       "\n",
       "    .dataframe tbody tr th {\n",
       "        vertical-align: top;\n",
       "    }\n",
       "\n",
       "    .dataframe thead th {\n",
       "        text-align: right;\n",
       "    }\n",
       "</style>\n",
       "<table border=\"1\" class=\"dataframe\">\n",
       "  <thead>\n",
       "    <tr style=\"text-align: right;\">\n",
       "      <th></th>\n",
       "      <th>Day_of_Week</th>\n",
       "      <th>count</th>\n",
       "      <th>mean</th>\n",
       "      <th>percentage</th>\n",
       "    </tr>\n",
       "  </thead>\n",
       "  <tbody>\n",
       "    <tr>\n",
       "      <th>0</th>\n",
       "      <td>Sunday</td>\n",
       "      <td>29445</td>\n",
       "      <td>566.250000</td>\n",
       "      <td>0.134804</td>\n",
       "    </tr>\n",
       "    <tr>\n",
       "      <th>1</th>\n",
       "      <td>Monday</td>\n",
       "      <td>31425</td>\n",
       "      <td>604.326923</td>\n",
       "      <td>0.143869</td>\n",
       "    </tr>\n",
       "    <tr>\n",
       "      <th>2</th>\n",
       "      <td>Tuesday</td>\n",
       "      <td>31298</td>\n",
       "      <td>590.528302</td>\n",
       "      <td>0.143287</td>\n",
       "    </tr>\n",
       "    <tr>\n",
       "      <th>3</th>\n",
       "      <td>Wednesday</td>\n",
       "      <td>31237</td>\n",
       "      <td>600.711538</td>\n",
       "      <td>0.143008</td>\n",
       "    </tr>\n",
       "    <tr>\n",
       "      <th>4</th>\n",
       "      <td>Thursday</td>\n",
       "      <td>30635</td>\n",
       "      <td>589.134615</td>\n",
       "      <td>0.140252</td>\n",
       "    </tr>\n",
       "    <tr>\n",
       "      <th>5</th>\n",
       "      <td>Friday</td>\n",
       "      <td>32788</td>\n",
       "      <td>630.538462</td>\n",
       "      <td>0.150109</td>\n",
       "    </tr>\n",
       "    <tr>\n",
       "      <th>6</th>\n",
       "      <td>Saturday</td>\n",
       "      <td>31600</td>\n",
       "      <td>607.692308</td>\n",
       "      <td>0.144670</td>\n",
       "    </tr>\n",
       "  </tbody>\n",
       "</table>\n",
       "</div>"
      ],
      "text/plain": [
       "  Day_of_Week  count        mean  percentage\n",
       "0      Sunday  29445  566.250000    0.134804\n",
       "1      Monday  31425  604.326923    0.143869\n",
       "2     Tuesday  31298  590.528302    0.143287\n",
       "3   Wednesday  31237  600.711538    0.143008\n",
       "4    Thursday  30635  589.134615    0.140252\n",
       "5      Friday  32788  630.538462    0.150109\n",
       "6    Saturday  31600  607.692308    0.144670"
      ]
     },
     "execution_count": 98,
     "metadata": {},
     "output_type": "execute_result"
    }
   ],
   "source": [
    "df3 = pd.merge(d_count, df2, left_on='Day_of_Week', right_on='Day_of_Week')\n",
    "df3"
   ]
  },
  {
   "cell_type": "markdown",
   "metadata": {},
   "source": [
    "# Why is Friday the highest?"
   ]
  },
  {
   "cell_type": "code",
   "execution_count": 106,
   "metadata": {},
   "outputs": [],
   "source": [
    "friday = df[df['Day_of_Week']=='Friday'].groupby(['Hour'])['Incident'].agg(['count'])"
   ]
  },
  {
   "cell_type": "code",
   "execution_count": 145,
   "metadata": {},
   "outputs": [
    {
     "data": {
      "image/png": "[encoded data removed]",
      "text/plain": [
       "<Figure size 864x576 with 1 Axes>"
      ]
     },
     "metadata": {
      "needs_background": "light"
     },
     "output_type": "display_data"
    }
   ],
   "source": [
    "fig, ax = plt.subplots(figsize=(12,8))\n",
    "ax= sns.lineplot(x=\"Hour\", y=\"count\", data=friday, color='#003f5c')\n",
    "plt.title('Top Incident by Hour', fontsize=16, pad=20)\n",
    "plt.ylabel('Count', fontsize=16)\n",
    "plt.xlabel('Hour', fontsize=16, labelpad=15)\n",
    "plt.xticks(range(0,25))\n",
    "plt.yticks(fontsize=12)\n",
    "\n",
    "y_line_annotation = friday['count'].mean()\n",
    "y_text_annotation = friday['count'].mean() + 10\n",
    "ax.axhline(y=y_line_annotation, linestyle='dashed', color='#58508d')\n",
    "ax.text(y=y_text_annotation, x = 4, ha='center', s='Friday Mean', color='#58508d', fontsize=16, weight=\"bold\")\n",
    "\n",
    "plt.show()"
   ]
  },
  {
   "cell_type": "code",
   "execution_count": null,
   "metadata": {},
   "outputs": [],
   "source": [
    "##Incidents start low early in the morning and increase throughout the day, while decreasing after midnight.\n",
    "##The lowest at 5am.\n",
    "##The highest at 12pm. Lunchtime spike?"
   ]
  },
  {
   "cell_type": "code",
   "execution_count": 58,
   "metadata": {
    "collapsed": true
   },
   "outputs": [
    {
     "data": {
      "text/html": [
       "<div>\n",
       "<style scoped>\n",
       "    .dataframe tbody tr th:only-of-type {\n",
       "        vertical-align: middle;\n",
       "    }\n",
       "\n",
       "    .dataframe tbody tr th {\n",
       "        vertical-align: top;\n",
       "    }\n",
       "\n",
       "    .dataframe thead th {\n",
       "        text-align: right;\n",
       "    }\n",
       "</style>\n",
       "<table border=\"1\" class=\"dataframe\">\n",
       "  <thead>\n",
       "    <tr style=\"text-align: right;\">\n",
       "      <th></th>\n",
       "      <th>Hour</th>\n",
       "      <th>Description</th>\n",
       "      <th>count</th>\n",
       "    </tr>\n",
       "  </thead>\n",
       "  <tbody>\n",
       "    <tr>\n",
       "      <th>42</th>\n",
       "      <td>0</td>\n",
       "      <td>Simple assault</td>\n",
       "      <td>158</td>\n",
       "    </tr>\n",
       "    <tr>\n",
       "      <th>41</th>\n",
       "      <td>1</td>\n",
       "      <td>Simple assault</td>\n",
       "      <td>161</td>\n",
       "    </tr>\n",
       "    <tr>\n",
       "      <th>70</th>\n",
       "      <td>2</td>\n",
       "      <td>Simple assault</td>\n",
       "      <td>128</td>\n",
       "    </tr>\n",
       "    <tr>\n",
       "      <th>75</th>\n",
       "      <td>3</td>\n",
       "      <td>Burglary, Breaking and Entering</td>\n",
       "      <td>127</td>\n",
       "    </tr>\n",
       "    <tr>\n",
       "      <th>120</th>\n",
       "      <td>4</td>\n",
       "      <td>Burglary, Breaking and Entering</td>\n",
       "      <td>101</td>\n",
       "    </tr>\n",
       "    <tr>\n",
       "      <th>141</th>\n",
       "      <td>5</td>\n",
       "      <td>Burglary, Breaking and Entering</td>\n",
       "      <td>94</td>\n",
       "    </tr>\n",
       "    <tr>\n",
       "      <th>110</th>\n",
       "      <td>6</td>\n",
       "      <td>Burglary, Breaking and Entering</td>\n",
       "      <td>106</td>\n",
       "    </tr>\n",
       "    <tr>\n",
       "      <th>71</th>\n",
       "      <td>7</td>\n",
       "      <td>Burglary, Breaking and Entering</td>\n",
       "      <td>128</td>\n",
       "    </tr>\n",
       "    <tr>\n",
       "      <th>65</th>\n",
       "      <td>8</td>\n",
       "      <td>All other larceny</td>\n",
       "      <td>131</td>\n",
       "    </tr>\n",
       "    <tr>\n",
       "      <th>56</th>\n",
       "      <td>9</td>\n",
       "      <td>Theft from motor vehicle</td>\n",
       "      <td>137</td>\n",
       "    </tr>\n",
       "    <tr>\n",
       "      <th>36</th>\n",
       "      <td>10</td>\n",
       "      <td>Theft from motor vehicle</td>\n",
       "      <td>170</td>\n",
       "    </tr>\n",
       "    <tr>\n",
       "      <th>20</th>\n",
       "      <td>11</td>\n",
       "      <td>Theft from motor vehicle</td>\n",
       "      <td>216</td>\n",
       "    </tr>\n",
       "    <tr>\n",
       "      <th>6</th>\n",
       "      <td>12</td>\n",
       "      <td>Theft from motor vehicle</td>\n",
       "      <td>308</td>\n",
       "    </tr>\n",
       "    <tr>\n",
       "      <th>13</th>\n",
       "      <td>13</td>\n",
       "      <td>Theft from motor vehicle</td>\n",
       "      <td>244</td>\n",
       "    </tr>\n",
       "    <tr>\n",
       "      <th>15</th>\n",
       "      <td>14</td>\n",
       "      <td>Theft from motor vehicle</td>\n",
       "      <td>231</td>\n",
       "    </tr>\n",
       "    <tr>\n",
       "      <th>10</th>\n",
       "      <td>15</td>\n",
       "      <td>Theft from motor vehicle</td>\n",
       "      <td>252</td>\n",
       "    </tr>\n",
       "    <tr>\n",
       "      <th>8</th>\n",
       "      <td>16</td>\n",
       "      <td>Theft from motor vehicle</td>\n",
       "      <td>262</td>\n",
       "    </tr>\n",
       "    <tr>\n",
       "      <th>5</th>\n",
       "      <td>17</td>\n",
       "      <td>Theft from motor vehicle</td>\n",
       "      <td>320</td>\n",
       "    </tr>\n",
       "    <tr>\n",
       "      <th>3</th>\n",
       "      <td>18</td>\n",
       "      <td>Theft from motor vehicle</td>\n",
       "      <td>364</td>\n",
       "    </tr>\n",
       "    <tr>\n",
       "      <th>1</th>\n",
       "      <td>19</td>\n",
       "      <td>Theft from motor vehicle</td>\n",
       "      <td>377</td>\n",
       "    </tr>\n",
       "    <tr>\n",
       "      <th>2</th>\n",
       "      <td>20</td>\n",
       "      <td>Theft from motor vehicle</td>\n",
       "      <td>367</td>\n",
       "    </tr>\n",
       "    <tr>\n",
       "      <th>0</th>\n",
       "      <td>21</td>\n",
       "      <td>Theft from motor vehicle</td>\n",
       "      <td>380</td>\n",
       "    </tr>\n",
       "    <tr>\n",
       "      <th>4</th>\n",
       "      <td>22</td>\n",
       "      <td>Theft from motor vehicle</td>\n",
       "      <td>345</td>\n",
       "    </tr>\n",
       "    <tr>\n",
       "      <th>9</th>\n",
       "      <td>23</td>\n",
       "      <td>Theft from motor vehicle</td>\n",
       "      <td>254</td>\n",
       "    </tr>\n",
       "  </tbody>\n",
       "</table>\n",
       "</div>"
      ],
      "text/plain": [
       "     Hour                      Description  count\n",
       "42      0                   Simple assault    158\n",
       "41      1                   Simple assault    161\n",
       "70      2                   Simple assault    128\n",
       "75      3  Burglary, Breaking and Entering    127\n",
       "120     4  Burglary, Breaking and Entering    101\n",
       "141     5  Burglary, Breaking and Entering     94\n",
       "110     6  Burglary, Breaking and Entering    106\n",
       "71      7  Burglary, Breaking and Entering    128\n",
       "65      8                All other larceny    131\n",
       "56      9         Theft from motor vehicle    137\n",
       "36     10         Theft from motor vehicle    170\n",
       "20     11         Theft from motor vehicle    216\n",
       "6      12         Theft from motor vehicle    308\n",
       "13     13         Theft from motor vehicle    244\n",
       "15     14         Theft from motor vehicle    231\n",
       "10     15         Theft from motor vehicle    252\n",
       "8      16         Theft from motor vehicle    262\n",
       "5      17         Theft from motor vehicle    320\n",
       "3      18         Theft from motor vehicle    364\n",
       "1      19         Theft from motor vehicle    377\n",
       "2      20         Theft from motor vehicle    367\n",
       "0      21         Theft from motor vehicle    380\n",
       "4      22         Theft from motor vehicle    345\n",
       "9      23         Theft from motor vehicle    254"
      ]
     },
     "execution_count": 58,
     "metadata": {},
     "output_type": "execute_result"
    }
   ],
   "source": [
    "f_hour = df[df['Day_of_Week']=='Friday'].groupby(['Hour','Description'])['Description'].agg(['count']).sort_values(by='count', ascending=False).reset_index().drop_duplicates(subset='Hour').sort_values(by='Hour', ascending=True)\n",
    "f_hour"
   ]
  },
  {
   "cell_type": "code",
   "execution_count": 96,
   "metadata": {},
   "outputs": [
    {
     "data": {
      "image/png": "[encoded data removed]",
      "text/plain": [
       "<Figure size 1152x864 with 1 Axes>"
      ]
     },
     "metadata": {
      "needs_background": "light"
     },
     "output_type": "display_data"
    }
   ],
   "source": [
    "colors = {'Simple assault':'#ffa600', 'Burglary, Breaking and Entering':'#ff696a', 'All other larceny':'#c05e9d', 'Theft from motor vehicle':'#616097'}\n",
    "fig, ax = plt.subplots(figsize=(16,12))\n",
    "ax.vlines(f_hour['Hour'], ymin=0, ymax=f_hour['count'], color=f_hour['Description'].apply(lambda x: colors[x]), linewidth=4)\n",
    "plt.legend(f_hour['Description'].apply(lambda x: colors[x]))\n",
    "ax.plot(f_hour['Hour'], f_hour['count'], 'o', markersize= 12, color='#3d5a80')\n",
    "plt.title('Top Incident by Hour', fontsize=16, pad=20)\n",
    "plt.ylabel('Count', fontsize=16)\n",
    "plt.xlabel('Hour', fontsize=16, labelpad=15)\n",
    "plt.xticks(f_hour['Hour'], fontsize=12, rotation=0)\n",
    "plt.yticks(fontsize=12)\n",
    "plt.ylim(0, 400)\n",
    "       \n",
    "labels = list(colors.keys())\n",
    "handles = [plt.Rectangle((0,0),1,1, color=colors[label]) for label in labels]\n",
    "plt.legend(handles, labels)\n",
    "\n",
    "plt.show()"
   ]
  },
  {
   "cell_type": "code",
   "execution_count": null,
   "metadata": {},
   "outputs": [],
   "source": [
    "##Again lowest point is early in the morning, steadly rising to late evening. Then once midnight hits, it decreases."
   ]
  },
  {
   "cell_type": "code",
   "execution_count": 100,
   "metadata": {
    "collapsed": true
   },
   "outputs": [
    {
     "data": {
      "text/html": [
       "<div>\n",
       "<style scoped>\n",
       "    .dataframe tbody tr th:only-of-type {\n",
       "        vertical-align: middle;\n",
       "    }\n",
       "\n",
       "    .dataframe tbody tr th {\n",
       "        vertical-align: top;\n",
       "    }\n",
       "\n",
       "    .dataframe thead th {\n",
       "        text-align: right;\n",
       "    }\n",
       "</style>\n",
       "<table border=\"1\" class=\"dataframe\">\n",
       "  <thead>\n",
       "    <tr style=\"text-align: right;\">\n",
       "      <th></th>\n",
       "      <th>Hour</th>\n",
       "      <th>Premise</th>\n",
       "      <th>count</th>\n",
       "    </tr>\n",
       "  </thead>\n",
       "  <tbody>\n",
       "    <tr>\n",
       "      <th>4</th>\n",
       "      <td>0</td>\n",
       "      <td>Residence, Home (Includes Apartment)</td>\n",
       "      <td>641</td>\n",
       "    </tr>\n",
       "    <tr>\n",
       "      <th>26</th>\n",
       "      <td>1</td>\n",
       "      <td>Residence, Home (Includes Apartment)</td>\n",
       "      <td>352</td>\n",
       "    </tr>\n",
       "    <tr>\n",
       "      <th>31</th>\n",
       "      <td>2</td>\n",
       "      <td>Residence, Home (Includes Apartment)</td>\n",
       "      <td>303</td>\n",
       "    </tr>\n",
       "    <tr>\n",
       "      <th>37</th>\n",
       "      <td>3</td>\n",
       "      <td>Residence, Home (Includes Apartment)</td>\n",
       "      <td>251</td>\n",
       "    </tr>\n",
       "    <tr>\n",
       "      <th>48</th>\n",
       "      <td>4</td>\n",
       "      <td>Residence, Home (Includes Apartment)</td>\n",
       "      <td>209</td>\n",
       "    </tr>\n",
       "    <tr>\n",
       "      <th>49</th>\n",
       "      <td>5</td>\n",
       "      <td>Residence, Home (Includes Apartment)</td>\n",
       "      <td>193</td>\n",
       "    </tr>\n",
       "    <tr>\n",
       "      <th>36</th>\n",
       "      <td>6</td>\n",
       "      <td>Residence, Home (Includes Apartment)</td>\n",
       "      <td>253</td>\n",
       "    </tr>\n",
       "    <tr>\n",
       "      <th>24</th>\n",
       "      <td>7</td>\n",
       "      <td>Residence, Home (Includes Apartment)</td>\n",
       "      <td>364</td>\n",
       "    </tr>\n",
       "    <tr>\n",
       "      <th>12</th>\n",
       "      <td>8</td>\n",
       "      <td>Residence, Home (Includes Apartment)</td>\n",
       "      <td>530</td>\n",
       "    </tr>\n",
       "    <tr>\n",
       "      <th>16</th>\n",
       "      <td>9</td>\n",
       "      <td>Residence, Home (Includes Apartment)</td>\n",
       "      <td>453</td>\n",
       "    </tr>\n",
       "    <tr>\n",
       "      <th>10</th>\n",
       "      <td>10</td>\n",
       "      <td>Residence, Home (Includes Apartment)</td>\n",
       "      <td>563</td>\n",
       "    </tr>\n",
       "    <tr>\n",
       "      <th>13</th>\n",
       "      <td>11</td>\n",
       "      <td>Residence, Home (Includes Apartment)</td>\n",
       "      <td>477</td>\n",
       "    </tr>\n",
       "    <tr>\n",
       "      <th>0</th>\n",
       "      <td>12</td>\n",
       "      <td>Residence, Home (Includes Apartment)</td>\n",
       "      <td>853</td>\n",
       "    </tr>\n",
       "    <tr>\n",
       "      <th>19</th>\n",
       "      <td>13</td>\n",
       "      <td>Residence, Home (Includes Apartment)</td>\n",
       "      <td>435</td>\n",
       "    </tr>\n",
       "    <tr>\n",
       "      <th>15</th>\n",
       "      <td>14</td>\n",
       "      <td>Residence, Home (Includes Apartment)</td>\n",
       "      <td>463</td>\n",
       "    </tr>\n",
       "    <tr>\n",
       "      <th>9</th>\n",
       "      <td>15</td>\n",
       "      <td>Residence, Home (Includes Apartment)</td>\n",
       "      <td>570</td>\n",
       "    </tr>\n",
       "    <tr>\n",
       "      <th>11</th>\n",
       "      <td>16</td>\n",
       "      <td>Residence, Home (Includes Apartment)</td>\n",
       "      <td>542</td>\n",
       "    </tr>\n",
       "    <tr>\n",
       "      <th>5</th>\n",
       "      <td>17</td>\n",
       "      <td>Residence, Home (Includes Apartment)</td>\n",
       "      <td>639</td>\n",
       "    </tr>\n",
       "    <tr>\n",
       "      <th>3</th>\n",
       "      <td>18</td>\n",
       "      <td>Residence, Home (Includes Apartment)</td>\n",
       "      <td>660</td>\n",
       "    </tr>\n",
       "    <tr>\n",
       "      <th>8</th>\n",
       "      <td>19</td>\n",
       "      <td>Residence, Home (Includes Apartment)</td>\n",
       "      <td>574</td>\n",
       "    </tr>\n",
       "    <tr>\n",
       "      <th>6</th>\n",
       "      <td>20</td>\n",
       "      <td>Residence, Home (Includes Apartment)</td>\n",
       "      <td>630</td>\n",
       "    </tr>\n",
       "    <tr>\n",
       "      <th>1</th>\n",
       "      <td>21</td>\n",
       "      <td>Residence, Home (Includes Apartment)</td>\n",
       "      <td>672</td>\n",
       "    </tr>\n",
       "    <tr>\n",
       "      <th>2</th>\n",
       "      <td>22</td>\n",
       "      <td>Residence, Home (Includes Apartment)</td>\n",
       "      <td>663</td>\n",
       "    </tr>\n",
       "    <tr>\n",
       "      <th>7</th>\n",
       "      <td>23</td>\n",
       "      <td>Residence, Home (Includes Apartment)</td>\n",
       "      <td>599</td>\n",
       "    </tr>\n",
       "  </tbody>\n",
       "</table>\n",
       "</div>"
      ],
      "text/plain": [
       "    Hour                               Premise  count\n",
       "4      0  Residence, Home (Includes Apartment)    641\n",
       "26     1  Residence, Home (Includes Apartment)    352\n",
       "31     2  Residence, Home (Includes Apartment)    303\n",
       "37     3  Residence, Home (Includes Apartment)    251\n",
       "48     4  Residence, Home (Includes Apartment)    209\n",
       "49     5  Residence, Home (Includes Apartment)    193\n",
       "36     6  Residence, Home (Includes Apartment)    253\n",
       "24     7  Residence, Home (Includes Apartment)    364\n",
       "12     8  Residence, Home (Includes Apartment)    530\n",
       "16     9  Residence, Home (Includes Apartment)    453\n",
       "10    10  Residence, Home (Includes Apartment)    563\n",
       "13    11  Residence, Home (Includes Apartment)    477\n",
       "0     12  Residence, Home (Includes Apartment)    853\n",
       "19    13  Residence, Home (Includes Apartment)    435\n",
       "15    14  Residence, Home (Includes Apartment)    463\n",
       "9     15  Residence, Home (Includes Apartment)    570\n",
       "11    16  Residence, Home (Includes Apartment)    542\n",
       "5     17  Residence, Home (Includes Apartment)    639\n",
       "3     18  Residence, Home (Includes Apartment)    660\n",
       "8     19  Residence, Home (Includes Apartment)    574\n",
       "6     20  Residence, Home (Includes Apartment)    630\n",
       "1     21  Residence, Home (Includes Apartment)    672\n",
       "2     22  Residence, Home (Includes Apartment)    663\n",
       "7     23  Residence, Home (Includes Apartment)    599"
      ]
     },
     "execution_count": 100,
     "metadata": {},
     "output_type": "execute_result"
    }
   ],
   "source": [
    "r_count = df[df['Day_of_Week']=='Friday'].groupby(['Hour','Premise'])['Premise'].agg(['count']).sort_values(by='count', ascending=False).reset_index().drop_duplicates(subset='Hour').sort_values(by='Hour', ascending=True)\n",
    "r_count"
   ]
  },
  {
   "cell_type": "code",
   "execution_count": 108,
   "metadata": {},
   "outputs": [
    {
     "data": {
      "image/png": "[encoded data removed]",
      "text/plain": [
       "<Figure size 1152x864 with 1 Axes>"
      ]
     },
     "metadata": {
      "needs_background": "light"
     },
     "output_type": "display_data"
    }
   ],
   "source": [
    "fig, ax = plt.subplots(figsize=(16,12))\n",
    "plt.fill_between(r_count['Hour'], r_count['count'], color=\"#ffa600\", alpha=0.2)\n",
    "plt.plot(r_count['Hour'], r_count['count'], color=\"#003f5c\", alpha=0.6)\n",
    "plt.title('Top Incident by Hour', fontsize=16, pad=20)\n",
    "plt.ylabel('Count', fontsize=16)\n",
    "plt.xlabel('Hour', fontsize=16, labelpad=15)\n",
    "plt.xticks(f_hour['Hour'], fontsize=12, rotation=0)\n",
    "plt.yticks(fontsize=12)\n",
    "plt.margins(0)\n",
    "plt.ylim(0, 900)\n",
    "plt.show()"
   ]
  },
  {
   "cell_type": "code",
   "execution_count": null,
   "metadata": {},
   "outputs": [],
   "source": [
    "##The majority of incidents are happening at residental areas."
   ]
  }
 ],
 "metadata": {
  "kernelspec": {
   "display_name": "Python 3",
   "language": "python",
   "name": "python3"
  },
  "language_info": {
   "codemirror_mode": {
    "name": "ipython",
    "version": 3
   },
   "file_extension": ".py",
   "mimetype": "text/x-python",
   "name": "python",
   "nbconvert_exporter": "python",
   "pygments_lexer": "ipython3",
   "version": "3.8.5"
  },
  "toc": {
   "base_numbering": 1,
   "nav_menu": {},
   "number_sections": true,
   "sideBar": true,
   "skip_h1_title": false,
   "title_cell": "Table of Contents",
   "title_sidebar": "Contents",
   "toc_cell": false,
   "toc_position": {},
   "toc_section_display": true,
   "toc_window_display": false
  }
 },
 "nbformat": 4,
 "nbformat_minor": 4
}
